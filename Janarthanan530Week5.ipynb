{
 "cells": [
  {
   "cell_type": "markdown",
   "id": "4bb5973e",
   "metadata": {},
   "source": [
    "#  DSC530-T304 Data Exploration and Analysis - Week 5 #\n",
    "\n",
    "## Modeling Distributions and Probability Density Functions ##\n",
    "\n",
    "### Excercise Chapter 5 ###\n",
    "-----"
   ]
  },
  {
   "cell_type": "code",
   "execution_count": 1,
   "id": "0c412601",
   "metadata": {},
   "outputs": [],
   "source": [
    "# Download pregency and respondent data files from thinkstat\n",
    "\n",
    "from os.path import basename, exists\n",
    "\n",
    "# Declare a function to download the files to local\n",
    "def download(fileurl):\n",
    "    filename = basename(fileurl)\n",
    "    if not exists(filename):\n",
    "        from urllib.request import urlretrieve\n",
    "\n",
    "        local, _ = urlretrieve(fileurl, filename)\n",
    "        print(\"Downloaded \" + local)"
   ]
  },
  {
   "cell_type": "code",
   "execution_count": 2,
   "id": "2532ecf6",
   "metadata": {},
   "outputs": [],
   "source": [
    "# Dowload the python and data files to load pregnency and respondent data \n",
    "download(\"https://github.com/AllenDowney/ThinkStats2/raw/master/code/thinkstats2.py\")\n",
    "download(\"https://github.com/AllenDowney/ThinkStats2/raw/master/code/thinkplot.py\")\n",
    "download(\"https://github.com/AllenDowney/ThinkStats2/raw/master/code/nsfg.py\")\n",
    "download(\"https://github.com/AllenDowney/ThinkStats2/raw/master/code/2002FemPreg.dct\")\n",
    "download(\n",
    "    \"https://github.com/AllenDowney/ThinkStats2/raw/master/code/2002FemPreg.dat.gz\"\n",
    ")\n",
    "download(\"https://github.com/AllenDowney/ThinkStats2/raw/master/code/2002FemResp.dct\")\n",
    "download(\"https://github.com/AllenDowney/ThinkStats2/raw/master/code/2002FemResp.dat.gz\")"
   ]
  },
  {
   "cell_type": "code",
   "execution_count": 3,
   "id": "53f4c8f3",
   "metadata": {},
   "outputs": [],
   "source": [
    "download(\"https://github.com/AllenDowney/ThinkStats2/raw/master/code/first.py\")"
   ]
  },
  {
   "cell_type": "markdown",
   "id": "8172b20c",
   "metadata": {},
   "source": [
    "**Excercise 5-1**\n",
    " In the BRFSS (see Section 5.4), the distribution of heights is roughly normal with parameters µ = 178 cm and σ = 7.7 cm for men, and µ = 163 cm and σ = 7.3 cm for women.\n",
    "In order to join Blue Man Group, you have to be male between 5’10” and 6’1” (see http://bluemancasting.com). What percentage of the U.S. male population is in this range? Hint: use scipy.stats.norm.cdf."
   ]
  },
  {
   "cell_type": "code",
   "execution_count": 4,
   "id": "6aa29006",
   "metadata": {},
   "outputs": [],
   "source": [
    "# download the python file read the bio metric data\n",
    "download(\"https://github.com/AllenDowney/ThinkStats2/raw/master/code/brfss.py\")\n"
   ]
  },
  {
   "cell_type": "code",
   "execution_count": 5,
   "id": "0fceb3b8",
   "metadata": {},
   "outputs": [],
   "source": [
    "# download the  bio metric data file\n",
    "download(\"https://github.com/AllenDowney/ThinkStats2/raw/master/code/CDBRFS08.ASC.gz\")"
   ]
  },
  {
   "cell_type": "code",
   "execution_count": 6,
   "id": "0f90c249",
   "metadata": {},
   "outputs": [],
   "source": [
    "# import the python script to read the bio metric data\n",
    "import brfss "
   ]
  },
  {
   "cell_type": "code",
   "execution_count": 7,
   "id": "25cdb655",
   "metadata": {},
   "outputs": [],
   "source": [
    "# Read the bio metic data\n",
    "wt_df = brfss.ReadBrfss()"
   ]
  },
  {
   "cell_type": "code",
   "execution_count": 8,
   "id": "3b4ee1cf",
   "metadata": {},
   "outputs": [
    {
     "data": {
      "text/html": [
       "<div>\n",
       "<style scoped>\n",
       "    .dataframe tbody tr th:only-of-type {\n",
       "        vertical-align: middle;\n",
       "    }\n",
       "\n",
       "    .dataframe tbody tr th {\n",
       "        vertical-align: top;\n",
       "    }\n",
       "\n",
       "    .dataframe thead th {\n",
       "        text-align: right;\n",
       "    }\n",
       "</style>\n",
       "<table border=\"1\" class=\"dataframe\">\n",
       "  <thead>\n",
       "    <tr style=\"text-align: right;\">\n",
       "      <th></th>\n",
       "      <th>age</th>\n",
       "      <th>sex</th>\n",
       "      <th>wtyrago</th>\n",
       "      <th>finalwt</th>\n",
       "      <th>wtkg2</th>\n",
       "      <th>htm3</th>\n",
       "    </tr>\n",
       "  </thead>\n",
       "  <tbody>\n",
       "    <tr>\n",
       "      <th>0</th>\n",
       "      <td>82.0</td>\n",
       "      <td>2</td>\n",
       "      <td>76.363636</td>\n",
       "      <td>185.870345</td>\n",
       "      <td>70.91</td>\n",
       "      <td>157.0</td>\n",
       "    </tr>\n",
       "    <tr>\n",
       "      <th>1</th>\n",
       "      <td>65.0</td>\n",
       "      <td>2</td>\n",
       "      <td>72.727273</td>\n",
       "      <td>126.603027</td>\n",
       "      <td>72.73</td>\n",
       "      <td>163.0</td>\n",
       "    </tr>\n",
       "    <tr>\n",
       "      <th>2</th>\n",
       "      <td>48.0</td>\n",
       "      <td>2</td>\n",
       "      <td>NaN</td>\n",
       "      <td>181.063210</td>\n",
       "      <td>NaN</td>\n",
       "      <td>165.0</td>\n",
       "    </tr>\n",
       "    <tr>\n",
       "      <th>3</th>\n",
       "      <td>61.0</td>\n",
       "      <td>1</td>\n",
       "      <td>73.636364</td>\n",
       "      <td>517.926275</td>\n",
       "      <td>73.64</td>\n",
       "      <td>170.0</td>\n",
       "    </tr>\n",
       "    <tr>\n",
       "      <th>4</th>\n",
       "      <td>26.0</td>\n",
       "      <td>1</td>\n",
       "      <td>88.636364</td>\n",
       "      <td>1252.624630</td>\n",
       "      <td>88.64</td>\n",
       "      <td>185.0</td>\n",
       "    </tr>\n",
       "  </tbody>\n",
       "</table>\n",
       "</div>"
      ],
      "text/plain": [
       "    age  sex    wtyrago      finalwt  wtkg2   htm3\n",
       "0  82.0    2  76.363636   185.870345  70.91  157.0\n",
       "1  65.0    2  72.727273   126.603027  72.73  163.0\n",
       "2  48.0    2        NaN   181.063210    NaN  165.0\n",
       "3  61.0    1  73.636364   517.926275  73.64  170.0\n",
       "4  26.0    1  88.636364  1252.624630  88.64  185.0"
      ]
     },
     "execution_count": 8,
     "metadata": {},
     "output_type": "execute_result"
    }
   ],
   "source": [
    "# print the top 5 records\n",
    "wt_df.head()"
   ]
  },
  {
   "cell_type": "code",
   "execution_count": 9,
   "id": "0ae63b75",
   "metadata": {},
   "outputs": [],
   "source": [
    "#  drop any records that has no values \n",
    "heights = wt_df.htm3.dropna()"
   ]
  },
  {
   "cell_type": "code",
   "execution_count": 10,
   "id": "d68268cf",
   "metadata": {},
   "outputs": [
    {
     "data": {
      "text/plain": [
       "count    409129.000000\n",
       "mean        168.825190\n",
       "std          10.352653\n",
       "min          61.000000\n",
       "25%         160.000000\n",
       "50%         168.000000\n",
       "75%         175.000000\n",
       "max         236.000000\n",
       "Name: htm3, dtype: float64"
      ]
     },
     "execution_count": 10,
     "metadata": {},
     "output_type": "execute_result"
    }
   ],
   "source": [
    "heights.describe()"
   ]
  },
  {
   "cell_type": "code",
   "execution_count": null,
   "id": "0889d78f",
   "metadata": {},
   "outputs": [],
   "source": []
  },
  {
   "cell_type": "code",
   "execution_count": 11,
   "id": "cd1bd3e2",
   "metadata": {},
   "outputs": [
    {
     "name": "stdout",
     "output_type": "stream",
     "text": [
      "Iteration 1 : The percentage of values within the range [177.8, 185.42] is: 34.27%\n",
      "Iteration 2 : The percentage of values within the range [177.8, 185.42] is: 34.27%\n"
     ]
    }
   ],
   "source": [
    "from scipy.stats import norm\n",
    "\n",
    "# declare values provided using variables\n",
    "mean_value = 178\n",
    "std_dev_value = 7.7\n",
    "start_range = 177.8  #  converting 5ft 10 in to cm as mean value and std deviation is in cm units\n",
    "end_range = 185.42   #  converting 6ft 1in to cm\n",
    "\n",
    "#Ieration 1 -  using distrubtion cdf values find the percentage of heights wthin 5' 10\" and 6' 1\"\n",
    "\n",
    "#Re-create the distribution using mean and std\n",
    "distributn = norm(loc=mean_value, scale=std_dev_value)\n",
    "\n",
    "#retrieve the cumulative distribution of start value\n",
    "cdf_start = distributn.cdf( start_range )\n",
    "\n",
    "#retrieve the cumulative distribution of start value\n",
    "cdf_end = distributn.cdf( end_range )\n",
    "\n",
    "# Find the difference of cdf to retrieve the net percentage\n",
    "percentage_within = (cdf_end - cdf_start) * 100\n",
    "\n",
    "print(f\"Iteration 1 : The percentage of values within the range [{start_range}, {end_range}] is: {percentage_within:.2f}%\")\n",
    "\n",
    "#Ieration 2 -  using distrubtion cdf z score values find the percentage of heights wthin 5' 10\" and 6' 1\"\n",
    "# use z_scores - measure of how many standard deviations a particular data point is from the mean\n",
    "z_start = (start_range - mean_value) / std_dev_value\n",
    "z_end = (end_range - mean_value) / std_dev_value\n",
    "\n",
    "# Use the CDF to find the percentage within the range\n",
    "percentage_within = norm.cdf(z_end) - norm.cdf(z_start)\n",
    "\n",
    "#retrieve the cumulative distribution of start value\n",
    "cdf_start = norm.cdf(z_start)\n",
    "\n",
    "#retrieve the cumulative distribution of start value\n",
    "cdf_end = norm.cdf(z_end)\n",
    "\n",
    "# Find the difference of cdf to retrieve the net percentage\n",
    "percentage_within = ( cdf_end - cdf_start ) * 100\n",
    "\n",
    "\n",
    "#percentage_within = percentage_within_range(mean_value, std_dev_value, start_range, end_range)\n",
    "print(f\"Iteration 2 : The percentage of values within the range [{start_range}, {end_range}] is: {percentage_within:.2f}%\")"
   ]
  },
  {
   "cell_type": "code",
   "execution_count": 12,
   "id": "83263521",
   "metadata": {},
   "outputs": [
    {
     "data": {
      "text/plain": [
       "409129"
      ]
     },
     "execution_count": 12,
     "metadata": {},
     "output_type": "execute_result"
    }
   ],
   "source": [
    "len(heights)"
   ]
  },
  {
   "cell_type": "markdown",
   "id": "8fe060d1",
   "metadata": {},
   "source": [
    "**Exercise 5-2**   To get a feel for the Pareto distribution, let’s see how different the world would be if the distribution of human height were Pareto. With the parameters xm = 1 m and α = 1.7, we get a distribution with a reasonable minimum, 1 m, and median, 1.5 m.\n",
    "Plot this distribution. What is the mean human height in Pareto world? What fraction of the population is shorter than the mean? If there are 7 billion people in Pareto world, how many do we expect to be taller than 1 km? How tall do we expect the tallest person to be?"
   ]
  },
  {
   "cell_type": "code",
   "execution_count": 13,
   "id": "ed6d13b5",
   "metadata": {},
   "outputs": [
    {
     "data": {
      "image/png": "[encoded data removed]",
      "text/plain": [
       "<Figure size 640x480 with 1 Axes>"
      ]
     },
     "metadata": {},
     "output_type": "display_data"
    }
   ],
   "source": [
    "# import the script to laod data\n",
    "import thinkstats2\n",
    "import thinkplot\n",
    "cdf = thinkstats2.Cdf(heights, label=\"height\")\n",
    "\n",
    "thinkplot.Cdf(cdf)\n",
    "thinkplot.Config(xlabel=\"Height in cm\", ylabel=\"CDF\")"
   ]
  },
  {
   "cell_type": "code",
   "execution_count": 14,
   "id": "a9067f4e",
   "metadata": {},
   "outputs": [
    {
     "data": {
      "image/png": "[encoded data removed]",
      "text/plain": [
       "<Figure size 640x480 with 1 Axes>"
      ]
     },
     "metadata": {},
     "output_type": "display_data"
    }
   ],
   "source": [
    "# Log 10 plot \n",
    "thinkplot.Cdf(cdf, complement=True)\n",
    "thinkplot.Config(\n",
    "    xlabel=\"Height in cm\",\n",
    "    ylabel=\"CCDF\",\n",
    "    yscale=\"log\",\n",
    "    loc=\"upper right\",\n",
    ")"
   ]
  },
  {
   "cell_type": "code",
   "execution_count": 15,
   "id": "83ef3112",
   "metadata": {},
   "outputs": [],
   "source": [
    "# declare variables to hold given parameters xm = 1 m and α = 1.7, \n",
    "pareto_min_val = 1\n",
    "pareto_alpha = 1.7\n"
   ]
  },
  {
   "cell_type": "code",
   "execution_count": 16,
   "id": "f4e676ab",
   "metadata": {},
   "outputs": [
    {
     "name": "stdout",
     "output_type": "stream",
     "text": [
      "Iteration 1 mean human height is  2.428571428571429\n"
     ]
    }
   ],
   "source": [
    "from scipy.stats import pareto\n",
    "# create a distribution usingthe min val and alpha\n",
    "distribution = pareto(b=pareto_alpha, scale=pareto_min_val)\n",
    "# From the ditribution find the mean value\n",
    "print('Iteration 1 mean human height is ', distribution.mean())"
   ]
  },
  {
   "cell_type": "code",
   "execution_count": 17,
   "id": "101890a8",
   "metadata": {},
   "outputs": [
    {
     "name": "stdout",
     "output_type": "stream",
     "text": [
      "Iteration 2 mean human height is  2.428571428571429\n"
     ]
    }
   ],
   "source": [
    "# Calculate mean value using min value and alpha\n",
    "mean_val = ( pareto_alpha * pareto_min_val ) / ( pareto_alpha - 1)\n",
    "print('Iteration 2 mean human height is ', mean_val) "
   ]
  },
  {
   "cell_type": "code",
   "execution_count": 18,
   "id": "01f58fe4",
   "metadata": {},
   "outputs": [
    {
     "name": "stdout",
     "output_type": "stream",
     "text": [
      "Fraction of people are shorter than the mean is 0.778739697565288\n"
     ]
    }
   ],
   "source": [
    "#  Fraction of people are shorter than the mean\n",
    "# find the difference between pareto CDF at mean and pareto CDF at 0 location\n",
    "print('Fraction of people are shorter than the mean is', distribution.cdf(distribution.mean())  - distribution.cdf(0))"
   ]
  },
  {
   "cell_type": "code",
   "execution_count": 19,
   "id": "1d70051f",
   "metadata": {},
   "outputs": [
    {
     "data": {
      "text/plain": [
       "58.17091329374356"
      ]
     },
     "execution_count": 19,
     "metadata": {},
     "output_type": "execute_result"
    }
   ],
   "source": [
    "# Generate 100 observed values from the Pareto distribution\n",
    "#observed_values = pareto.rvs(pareto_alpha, loc=0, scale=pareto_min_val, size=len(heights), random_state=42)\n",
    "pareto.ppf(1 - 1/1000, pareto_alpha, loc=0, scale=pareto_min_val)"
   ]
  },
  {
   "cell_type": "code",
   "execution_count": 20,
   "id": "ce59f5de",
   "metadata": {},
   "outputs": [
    {
     "name": "stdout",
     "output_type": "stream",
     "text": [
      "Number of people out of 7 Billion that are taller than 1KM :  55602.976430479954\n"
     ]
    }
   ],
   "source": [
    "# Fraction of people above the 1000m (1km) if the population is 7Billion\n",
    "# Calculate the fraction difference between max CDF and 1KM CDF and multiply by 7 Billion\n",
    "# max CDF value is 1\n",
    "print(\"Number of people out of 7 Billion that are taller than 1KM : \", (1- distribution.cdf(1000))*7e9)"
   ]
  },
  {
   "cell_type": "code",
   "execution_count": 21,
   "id": "8d098330",
   "metadata": {},
   "outputs": [
    {
     "name": "stdout",
     "output_type": "stream",
     "text": [
      "CDF value for 1000000000m or     0.9999999999999994\n",
      "CDF value for 10000000000m   1.0\n"
     ]
    }
   ],
   "source": [
    "# How tall do we expect the tallest person to be?\n",
    "# The tallest person or height will have CDF value of 1\n",
    "print(\"CDF value for 1000000000m or    \" , distribution.cdf(1000000000))\n",
    "print(\"CDF value for 10000000000m  \" , distribution.cdf(10000000000))"
   ]
  },
  {
   "cell_type": "code",
   "execution_count": 22,
   "id": "bdccbc60",
   "metadata": {},
   "outputs": [],
   "source": [
    "#The tallest person or height  10,000,000,000m or 10million KM height"
   ]
  },
  {
   "cell_type": "markdown",
   "id": "05d3afc3",
   "metadata": {},
   "source": [
    "**Exercise 6-1**\n",
    "The distribution of income is famously skewed to the right. In this exercise, we’ll measure how strong that skew is.\n",
    "\n",
    "The Current Population Survey (CPS) is a joint effort of the Bureau of Labor Statistics and the Census Bureau to study income and related variables. Data collected in 2013 is available from http://www.census.gov/hhes/www/cpstables/032013/hhinc/toc.htm. I downloaded hinc06.xls, which is an Excel spreadsheet with information about household income, and converted it to hinc06.csv, a CSV file you will find in the repository for this book. You will also find hinc2.py, which reads this file and transforms the data.\n",
    "\n",
    "The dataset is in the form of a series of income ranges and the number of respondents who fell in each range. The lowest range includes respondents who reported annual household income “Under $5000.” The highest range includes respondents who made “$250,000 or more.”\n",
    "\n",
    "To estimate mean and other statistics from these data, we have to make some assumptions about the lower and upper bounds, and how the values are distributed in each range. hinc2.py provides InterpolateSample, which shows one way to model this data. It takes a DataFrame with a column, income, that contains the upper bound of each range, and freq, which contains the number of respondents in each frame.\n",
    "\n",
    "It also takes log_upper, which is an assumed upper bound on the highest range, expressed in log10 dollars. The default value, log_upper=6.0 represents the assumption that the largest income among the respondents is 106, or one million dollars.\n",
    "\n",
    "InterpolateSample generates a pseudo-sample; that is, a sample of household incomes that yields the same number of respondents in each range as the actual data. It assumes that incomes in each range are equally spaced on a log10 scale.\n",
    "\n",
    "Compute the median, mean, skewness and Pearson’s skewness of the resulting sample. What fraction of households reports a taxable income below the mean? How do the results depend on the assumed upper bound?"
   ]
  },
  {
   "cell_type": "code",
   "execution_count": 23,
   "id": "d2ede099",
   "metadata": {},
   "outputs": [],
   "source": [
    "download(\"https://github.com/AllenDowney/ThinkStats2/raw/master/code/hinc2.py\")"
   ]
  },
  {
   "cell_type": "code",
   "execution_count": 24,
   "id": "ee37ed3b",
   "metadata": {},
   "outputs": [],
   "source": [
    "download(\"https://github.com/AllenDowney/ThinkStats2/raw/master/code/hinc.py\")"
   ]
  },
  {
   "cell_type": "code",
   "execution_count": 25,
   "id": "13dafa55",
   "metadata": {},
   "outputs": [],
   "source": [
    "download(\"https://github.com/AllenDowney/ThinkStats2/raw/master/code/hinc06.csv\")"
   ]
  },
  {
   "cell_type": "code",
   "execution_count": 26,
   "id": "44b07e99",
   "metadata": {},
   "outputs": [],
   "source": [
    "# import the script to read the distribution of income data\n",
    "import hinc\n",
    "income_df = hinc.ReadData()"
   ]
  },
  {
   "cell_type": "code",
   "execution_count": 27,
   "id": "eef30195",
   "metadata": {},
   "outputs": [
    {
     "data": {
      "text/html": [
       "<div>\n",
       "<style scoped>\n",
       "    .dataframe tbody tr th:only-of-type {\n",
       "        vertical-align: middle;\n",
       "    }\n",
       "\n",
       "    .dataframe tbody tr th {\n",
       "        vertical-align: top;\n",
       "    }\n",
       "\n",
       "    .dataframe thead th {\n",
       "        text-align: right;\n",
       "    }\n",
       "</style>\n",
       "<table border=\"1\" class=\"dataframe\">\n",
       "  <thead>\n",
       "    <tr style=\"text-align: right;\">\n",
       "      <th></th>\n",
       "      <th>income</th>\n",
       "      <th>freq</th>\n",
       "      <th>cumsum</th>\n",
       "      <th>ps</th>\n",
       "    </tr>\n",
       "  </thead>\n",
       "  <tbody>\n",
       "    <tr>\n",
       "      <th>0</th>\n",
       "      <td>4999.0</td>\n",
       "      <td>4204</td>\n",
       "      <td>4204</td>\n",
       "      <td>0.034330</td>\n",
       "    </tr>\n",
       "    <tr>\n",
       "      <th>1</th>\n",
       "      <td>9999.0</td>\n",
       "      <td>4729</td>\n",
       "      <td>8933</td>\n",
       "      <td>0.072947</td>\n",
       "    </tr>\n",
       "    <tr>\n",
       "      <th>2</th>\n",
       "      <td>14999.0</td>\n",
       "      <td>6982</td>\n",
       "      <td>15915</td>\n",
       "      <td>0.129963</td>\n",
       "    </tr>\n",
       "    <tr>\n",
       "      <th>3</th>\n",
       "      <td>19999.0</td>\n",
       "      <td>7157</td>\n",
       "      <td>23072</td>\n",
       "      <td>0.188407</td>\n",
       "    </tr>\n",
       "    <tr>\n",
       "      <th>4</th>\n",
       "      <td>24999.0</td>\n",
       "      <td>7131</td>\n",
       "      <td>30203</td>\n",
       "      <td>0.246640</td>\n",
       "    </tr>\n",
       "  </tbody>\n",
       "</table>\n",
       "</div>"
      ],
      "text/plain": [
       "    income  freq  cumsum        ps\n",
       "0   4999.0  4204    4204  0.034330\n",
       "1   9999.0  4729    8933  0.072947\n",
       "2  14999.0  6982   15915  0.129963\n",
       "3  19999.0  7157   23072  0.188407\n",
       "4  24999.0  7131   30203  0.246640"
      ]
     },
     "execution_count": 27,
     "metadata": {},
     "output_type": "execute_result"
    }
   ],
   "source": [
    "income_df.head()"
   ]
  },
  {
   "cell_type": "code",
   "execution_count": 28,
   "id": "a1879fa8",
   "metadata": {},
   "outputs": [
    {
     "data": {
      "text/html": [
       "<div>\n",
       "<style scoped>\n",
       "    .dataframe tbody tr th:only-of-type {\n",
       "        vertical-align: middle;\n",
       "    }\n",
       "\n",
       "    .dataframe tbody tr th {\n",
       "        vertical-align: top;\n",
       "    }\n",
       "\n",
       "    .dataframe thead th {\n",
       "        text-align: right;\n",
       "    }\n",
       "</style>\n",
       "<table border=\"1\" class=\"dataframe\">\n",
       "  <thead>\n",
       "    <tr style=\"text-align: right;\">\n",
       "      <th></th>\n",
       "      <th>income</th>\n",
       "      <th>freq</th>\n",
       "      <th>cumsum</th>\n",
       "      <th>ps</th>\n",
       "    </tr>\n",
       "  </thead>\n",
       "  <tbody>\n",
       "    <tr>\n",
       "      <th>count</th>\n",
       "      <td>42.0</td>\n",
       "      <td>42.000000</td>\n",
       "      <td>42.000000</td>\n",
       "      <td>42.000000</td>\n",
       "    </tr>\n",
       "    <tr>\n",
       "      <th>mean</th>\n",
       "      <td>inf</td>\n",
       "      <td>2915.666667</td>\n",
       "      <td>85451.547619</td>\n",
       "      <td>0.697803</td>\n",
       "    </tr>\n",
       "    <tr>\n",
       "      <th>std</th>\n",
       "      <td>NaN</td>\n",
       "      <td>2160.505402</td>\n",
       "      <td>34096.220084</td>\n",
       "      <td>0.278432</td>\n",
       "    </tr>\n",
       "    <tr>\n",
       "      <th>min</th>\n",
       "      <td>4999.0</td>\n",
       "      <td>364.000000</td>\n",
       "      <td>4204.000000</td>\n",
       "      <td>0.034330</td>\n",
       "    </tr>\n",
       "    <tr>\n",
       "      <th>25%</th>\n",
       "      <td>56249.0</td>\n",
       "      <td>1124.250000</td>\n",
       "      <td>66096.000000</td>\n",
       "      <td>0.539744</td>\n",
       "    </tr>\n",
       "    <tr>\n",
       "      <th>50%</th>\n",
       "      <td>107499.0</td>\n",
       "      <td>2577.500000</td>\n",
       "      <td>99158.000000</td>\n",
       "      <td>0.809731</td>\n",
       "    </tr>\n",
       "    <tr>\n",
       "      <th>75%</th>\n",
       "      <td>158749.0</td>\n",
       "      <td>4331.000000</td>\n",
       "      <td>112628.750000</td>\n",
       "      <td>0.919734</td>\n",
       "    </tr>\n",
       "    <tr>\n",
       "      <th>max</th>\n",
       "      <td>inf</td>\n",
       "      <td>7157.000000</td>\n",
       "      <td>122458.000000</td>\n",
       "      <td>1.000000</td>\n",
       "    </tr>\n",
       "  </tbody>\n",
       "</table>\n",
       "</div>"
      ],
      "text/plain": [
       "         income         freq         cumsum         ps\n",
       "count      42.0    42.000000      42.000000  42.000000\n",
       "mean        inf  2915.666667   85451.547619   0.697803\n",
       "std         NaN  2160.505402   34096.220084   0.278432\n",
       "min      4999.0   364.000000    4204.000000   0.034330\n",
       "25%     56249.0  1124.250000   66096.000000   0.539744\n",
       "50%    107499.0  2577.500000   99158.000000   0.809731\n",
       "75%    158749.0  4331.000000  112628.750000   0.919734\n",
       "max         inf  7157.000000  122458.000000   1.000000"
      ]
     },
     "execution_count": 28,
     "metadata": {},
     "output_type": "execute_result"
    }
   ],
   "source": [
    "income_df.describe()"
   ]
  },
  {
   "cell_type": "code",
   "execution_count": 29,
   "id": "6d976131",
   "metadata": {},
   "outputs": [],
   "source": [
    "import numpy as np \n",
    "# assign upper bound imcome for each range\n",
    "income_df['max_incm'] = income_df.income\n",
    "    \n",
    "# get the lower bounds by shifting the upper bound and filling in\n",
    "# the first element\n",
    "income_df['min_incm'] = income_df.max_incm.shift(1)\n",
    "\n",
    "# Assign a lower income \n",
    "income_df.loc[0, 'min_incm'] = 2000.00\n",
    "\n",
    "# plug in a value for the unknown upper bound of the highest range\n",
    "income_df.loc[41, 'max_incm'] = 1000000.0\n",
    "\n",
    "# use the freq column to generate the right number of values in\n",
    "# each range\n",
    "arrays = []\n",
    "for _, row in income_df.iterrows():\n",
    "    #print(row)\n",
    "    vals = np.linspace(row.min_incm, row.max_incm, int(row.freq))\n",
    "    #print(vals)\n",
    "    arrays.append(vals)\n",
    "\n",
    "\n",
    "\n",
    "intpolated_incm  = np.concatenate(arrays)"
   ]
  },
  {
   "cell_type": "code",
   "execution_count": 30,
   "id": "89b002d3",
   "metadata": {},
   "outputs": [
    {
     "data": {
      "text/plain": [
       "76387.6602549444"
      ]
     },
     "execution_count": 30,
     "metadata": {},
     "output_type": "execute_result"
    }
   ],
   "source": [
    "# Mean through avergae function\n",
    "sum(intpolated_incm) /  len(intpolated_incm)"
   ]
  },
  {
   "cell_type": "code",
   "execution_count": 31,
   "id": "3549153d",
   "metadata": {},
   "outputs": [
    {
     "name": "stdout",
     "output_type": "stream",
     "text": [
      "Mean of the income :  76387.66025494455\n"
     ]
    }
   ],
   "source": [
    "incm_mean =  intpolated_incm.mean()\n",
    "print('Mean of the income : ', incm_mean)"
   ]
  },
  {
   "cell_type": "code",
   "execution_count": 32,
   "id": "170e17ec",
   "metadata": {},
   "outputs": [
    {
     "name": "stdout",
     "output_type": "stream",
     "text": [
      "Median of the income :  51271.789649088416\n"
     ]
    }
   ],
   "source": [
    "incm_median = np.median(intpolated_incm)\n",
    "print('Median of the income : ', incm_median )"
   ]
  },
  {
   "cell_type": "code",
   "execution_count": 33,
   "id": "05aadbc0",
   "metadata": {},
   "outputs": [],
   "source": [
    "import scipy.stats"
   ]
  },
  {
   "cell_type": "code",
   "execution_count": 34,
   "id": "3466b271",
   "metadata": {},
   "outputs": [
    {
     "name": "stdout",
     "output_type": "stream",
     "text": [
      "Sknewness :  5.118148693435443\n"
     ]
    }
   ],
   "source": [
    "print(\"Sknewness : \", scipy.stats.skew(intpolated_incm))"
   ]
  },
  {
   "cell_type": "code",
   "execution_count": 35,
   "id": "6a1dd9c8",
   "metadata": {},
   "outputs": [
    {
     "name": "stdout",
     "output_type": "stream",
     "text": [
      "Pearson's skewness or Pearson's co-efficient is  0.7222853962459692\n"
     ]
    }
   ],
   "source": [
    "#Pearson’s Coefficient of Skewness\n",
    "incm_std = np.std(intpolated_incm)\n",
    "pearsn_coef = (3 * (incm_mean - incm_median ) )/ incm_std\n",
    "print(\"Pearson's skewness or Pearson's co-efficient is \", pearsn_coef)"
   ]
  },
  {
   "cell_type": "code",
   "execution_count": 36,
   "id": "6f8e8380",
   "metadata": {},
   "outputs": [],
   "source": [
    "cdf = thinkstats2.Cdf(intpolated_incm)"
   ]
  },
  {
   "cell_type": "code",
   "execution_count": 37,
   "id": "49092401",
   "metadata": {},
   "outputs": [],
   "source": [
    "#fraction of households less than mean income\n",
    "incm_distbn= norm(loc=incm_mean, scale=incm_std)\n",
    "mean_cdf = incm_distbn.cdf(incm_mean)"
   ]
  },
  {
   "cell_type": "code",
   "execution_count": 38,
   "id": "a774e688",
   "metadata": {},
   "outputs": [
    {
     "name": "stdout",
     "output_type": "stream",
     "text": [
      "Fraction of housholds that report taxable income (>25000) but less less than mean income is  0.18885389060980706\n"
     ]
    }
   ],
   "source": [
    "#consider 25000.0 as the taxable income\n",
    "min_tax_incm_cdf = incm_distbn.cdf(25000)\n",
    "\n",
    "print('Fraction of housholds that report taxable income (>25000) but less less than mean income is ', (mean_cdf- min_tax_incm_cdf) )"
   ]
  },
  {
   "cell_type": "markdown",
   "id": "fd38b60d",
   "metadata": {},
   "source": [
    "**How do the results depend on the assumed upper bound?**<br>\n",
    "\n",
    "The overall skewness does not change if the upper bound varies between 300,000 to 1000,000.  But the level of skewness varies with the outbound values<br>\n",
    "<br>\n",
    "300,000 <br>\n",
    "median income :  51,271<br>\n",
    "mean income   :  68,067<br>\n",
    "skewness      : 1.5874120724039804<br>\n",
    "Pearson's co-efficient is  0.8534029014769646<br>\n",
    "<br>\n",
    "$500,000<br>\n",
    "median income :  51,271<br>\n",
    "mean income   :  70,444<br>\n",
    "skewness      : 2.629187041479015<br>\n",
    "Pearson's co-efficient is  0.8284132792847333<br>\n",
    "\n",
    "<br>\n",
    "$1000,000<br>\n",
    "median income :  51,271<br>\n",
    "mean income   :  76,387<br>\n",
    "skewness      : 5.118148693435443<br>\n",
    "Pearson's co-efficient is  0.7222853962459692<br>"
   ]
  },
  {
   "cell_type": "code",
   "execution_count": null,
   "id": "7c41ba5f",
   "metadata": {},
   "outputs": [],
   "source": []
  },
  {
   "cell_type": "code",
   "execution_count": null,
   "id": "30cf33d5",
   "metadata": {},
   "outputs": [],
   "source": []
  }
 ],
 "metadata": {
  "kernelspec": {
   "display_name": "Python 3 (ipykernel)",
   "language": "python",
   "name": "python3"
  },
  "language_info": {
   "codemirror_mode": {
    "name": "ipython",
    "version": 3
   },
   "file_extension": ".py",
   "mimetype": "text/x-python",
   "name": "python",
   "nbconvert_exporter": "python",
   "pygments_lexer": "ipython3",
   "version": "3.11.5"
  }
 },
 "nbformat": 4,
 "nbformat_minor": 5
}
