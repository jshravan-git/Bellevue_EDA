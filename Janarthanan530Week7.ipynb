{
 "cells": [
  {
   "cell_type": "markdown",
   "id": "317ac65c",
   "metadata": {},
   "source": [
    "#  DSC530-T304 Data Exploration and Analysis - Week 7 #\n",
    "\n",
    "## Relationships between variables and Estimations ##\n",
    "\n",
    "### Excercise Chapter 7 ###\n",
    "-----"
   ]
  },
  {
   "cell_type": "code",
   "execution_count": 1,
   "id": "de2d8e8c",
   "metadata": {},
   "outputs": [],
   "source": [
    "# Download pregency and respondent data files from thinkstat\n",
    "\n",
    "from os.path import basename, exists\n",
    "\n",
    "# Declare a function to download the files to local\n",
    "def download(fileurl):\n",
    "    filename = basename(fileurl)\n",
    "    if not exists(filename):\n",
    "        from urllib.request import urlretrieve\n",
    "\n",
    "        local, _ = urlretrieve(fileurl, filename)\n",
    "        print(\"Downloaded \" + local)"
   ]
  },
  {
   "cell_type": "code",
   "execution_count": 2,
   "id": "dff9d692",
   "metadata": {},
   "outputs": [],
   "source": [
    "# Dowload the python and data files to load pregnency and respondent data \n",
    "download(\"https://github.com/AllenDowney/ThinkStats2/raw/master/code/thinkstats2.py\")\n",
    "download(\"https://github.com/AllenDowney/ThinkStats2/raw/master/code/thinkplot.py\")\n",
    "download(\"https://github.com/AllenDowney/ThinkStats2/raw/master/code/nsfg.py\")\n",
    "download(\"https://github.com/AllenDowney/ThinkStats2/raw/master/code/2002FemPreg.dct\")\n",
    "download(\n",
    "    \"https://github.com/AllenDowney/ThinkStats2/raw/master/code/2002FemPreg.dat.gz\"\n",
    ")\n",
    "download(\"https://github.com/AllenDowney/ThinkStats2/raw/master/code/2002FemResp.dct\")\n",
    "download(\"https://github.com/AllenDowney/ThinkStats2/raw/master/code/2002FemResp.dat.gz\")"
   ]
  },
  {
   "cell_type": "markdown",
   "id": "d9ce3604",
   "metadata": {},
   "source": [
    "**Excercise 7-1**   Using data from the NSFG, make a scatter plot of birth weight versus mother’s age. Plot percentiles of birth weight versus mother’s age. Compute Pearson’s and Spearman’s correlations. How would you characterize the relationship between these variables? "
   ]
  },
  {
   "cell_type": "code",
   "execution_count": 3,
   "id": "ad32d2d3",
   "metadata": {},
   "outputs": [],
   "source": [
    "# download the python file read the bio metric data\n",
    "download(\"https://github.com/AllenDowney/ThinkStats2/raw/master/code/brfss.py\")"
   ]
  },
  {
   "cell_type": "code",
   "execution_count": 4,
   "id": "cc190e18",
   "metadata": {},
   "outputs": [],
   "source": [
    "# download the  bio metric data file\n",
    "download(\"https://github.com/AllenDowney/ThinkStats2/raw/master/code/CDBRFS08.ASC.gz\")"
   ]
  },
  {
   "cell_type": "code",
   "execution_count": 5,
   "id": "cd7caaa7",
   "metadata": {},
   "outputs": [],
   "source": [
    "# import the script to laod data\n",
    "import nsfg\n"
   ]
  },
  {
   "cell_type": "code",
   "execution_count": 6,
   "id": "26ee0347",
   "metadata": {},
   "outputs": [
    {
     "data": {
      "text/html": [
       "<div>\n",
       "<style scoped>\n",
       "    .dataframe tbody tr th:only-of-type {\n",
       "        vertical-align: middle;\n",
       "    }\n",
       "\n",
       "    .dataframe tbody tr th {\n",
       "        vertical-align: top;\n",
       "    }\n",
       "\n",
       "    .dataframe thead th {\n",
       "        text-align: right;\n",
       "    }\n",
       "</style>\n",
       "<table border=\"1\" class=\"dataframe\">\n",
       "  <thead>\n",
       "    <tr style=\"text-align: right;\">\n",
       "      <th></th>\n",
       "      <th>caseid</th>\n",
       "      <th>pregordr</th>\n",
       "      <th>howpreg_n</th>\n",
       "      <th>howpreg_p</th>\n",
       "      <th>moscurrp</th>\n",
       "      <th>nowprgdk</th>\n",
       "      <th>pregend1</th>\n",
       "      <th>pregend2</th>\n",
       "      <th>nbrnaliv</th>\n",
       "      <th>multbrth</th>\n",
       "      <th>...</th>\n",
       "      <th>laborfor_i</th>\n",
       "      <th>religion_i</th>\n",
       "      <th>metro_i</th>\n",
       "      <th>basewgt</th>\n",
       "      <th>adj_mod_basewgt</th>\n",
       "      <th>finalwgt</th>\n",
       "      <th>secu_p</th>\n",
       "      <th>sest</th>\n",
       "      <th>cmintvw</th>\n",
       "      <th>totalwgt_lb</th>\n",
       "    </tr>\n",
       "  </thead>\n",
       "  <tbody>\n",
       "    <tr>\n",
       "      <th>0</th>\n",
       "      <td>1</td>\n",
       "      <td>1</td>\n",
       "      <td>NaN</td>\n",
       "      <td>NaN</td>\n",
       "      <td>NaN</td>\n",
       "      <td>NaN</td>\n",
       "      <td>6.0</td>\n",
       "      <td>NaN</td>\n",
       "      <td>1.0</td>\n",
       "      <td>NaN</td>\n",
       "      <td>...</td>\n",
       "      <td>0</td>\n",
       "      <td>0</td>\n",
       "      <td>0</td>\n",
       "      <td>3410.389399</td>\n",
       "      <td>3869.349602</td>\n",
       "      <td>6448.271112</td>\n",
       "      <td>2</td>\n",
       "      <td>9</td>\n",
       "      <td>NaN</td>\n",
       "      <td>8.8125</td>\n",
       "    </tr>\n",
       "    <tr>\n",
       "      <th>1</th>\n",
       "      <td>1</td>\n",
       "      <td>2</td>\n",
       "      <td>NaN</td>\n",
       "      <td>NaN</td>\n",
       "      <td>NaN</td>\n",
       "      <td>NaN</td>\n",
       "      <td>6.0</td>\n",
       "      <td>NaN</td>\n",
       "      <td>1.0</td>\n",
       "      <td>NaN</td>\n",
       "      <td>...</td>\n",
       "      <td>0</td>\n",
       "      <td>0</td>\n",
       "      <td>0</td>\n",
       "      <td>3410.389399</td>\n",
       "      <td>3869.349602</td>\n",
       "      <td>6448.271112</td>\n",
       "      <td>2</td>\n",
       "      <td>9</td>\n",
       "      <td>NaN</td>\n",
       "      <td>7.8750</td>\n",
       "    </tr>\n",
       "    <tr>\n",
       "      <th>2</th>\n",
       "      <td>2</td>\n",
       "      <td>1</td>\n",
       "      <td>NaN</td>\n",
       "      <td>NaN</td>\n",
       "      <td>NaN</td>\n",
       "      <td>NaN</td>\n",
       "      <td>5.0</td>\n",
       "      <td>NaN</td>\n",
       "      <td>3.0</td>\n",
       "      <td>5.0</td>\n",
       "      <td>...</td>\n",
       "      <td>0</td>\n",
       "      <td>0</td>\n",
       "      <td>0</td>\n",
       "      <td>7226.301740</td>\n",
       "      <td>8567.549110</td>\n",
       "      <td>12999.542264</td>\n",
       "      <td>2</td>\n",
       "      <td>12</td>\n",
       "      <td>NaN</td>\n",
       "      <td>9.1250</td>\n",
       "    </tr>\n",
       "    <tr>\n",
       "      <th>3</th>\n",
       "      <td>2</td>\n",
       "      <td>2</td>\n",
       "      <td>NaN</td>\n",
       "      <td>NaN</td>\n",
       "      <td>NaN</td>\n",
       "      <td>NaN</td>\n",
       "      <td>6.0</td>\n",
       "      <td>NaN</td>\n",
       "      <td>1.0</td>\n",
       "      <td>NaN</td>\n",
       "      <td>...</td>\n",
       "      <td>0</td>\n",
       "      <td>0</td>\n",
       "      <td>0</td>\n",
       "      <td>7226.301740</td>\n",
       "      <td>8567.549110</td>\n",
       "      <td>12999.542264</td>\n",
       "      <td>2</td>\n",
       "      <td>12</td>\n",
       "      <td>NaN</td>\n",
       "      <td>7.0000</td>\n",
       "    </tr>\n",
       "    <tr>\n",
       "      <th>4</th>\n",
       "      <td>2</td>\n",
       "      <td>3</td>\n",
       "      <td>NaN</td>\n",
       "      <td>NaN</td>\n",
       "      <td>NaN</td>\n",
       "      <td>NaN</td>\n",
       "      <td>6.0</td>\n",
       "      <td>NaN</td>\n",
       "      <td>1.0</td>\n",
       "      <td>NaN</td>\n",
       "      <td>...</td>\n",
       "      <td>0</td>\n",
       "      <td>0</td>\n",
       "      <td>0</td>\n",
       "      <td>7226.301740</td>\n",
       "      <td>8567.549110</td>\n",
       "      <td>12999.542264</td>\n",
       "      <td>2</td>\n",
       "      <td>12</td>\n",
       "      <td>NaN</td>\n",
       "      <td>6.1875</td>\n",
       "    </tr>\n",
       "  </tbody>\n",
       "</table>\n",
       "<p>5 rows × 244 columns</p>\n",
       "</div>"
      ],
      "text/plain": [
       "   caseid  pregordr  howpreg_n  howpreg_p  moscurrp  nowprgdk  pregend1  \\\n",
       "0       1         1        NaN        NaN       NaN       NaN       6.0   \n",
       "1       1         2        NaN        NaN       NaN       NaN       6.0   \n",
       "2       2         1        NaN        NaN       NaN       NaN       5.0   \n",
       "3       2         2        NaN        NaN       NaN       NaN       6.0   \n",
       "4       2         3        NaN        NaN       NaN       NaN       6.0   \n",
       "\n",
       "   pregend2  nbrnaliv  multbrth  ...  laborfor_i  religion_i  metro_i  \\\n",
       "0       NaN       1.0       NaN  ...           0           0        0   \n",
       "1       NaN       1.0       NaN  ...           0           0        0   \n",
       "2       NaN       3.0       5.0  ...           0           0        0   \n",
       "3       NaN       1.0       NaN  ...           0           0        0   \n",
       "4       NaN       1.0       NaN  ...           0           0        0   \n",
       "\n",
       "       basewgt  adj_mod_basewgt      finalwgt  secu_p  sest  cmintvw  \\\n",
       "0  3410.389399      3869.349602   6448.271112       2     9      NaN   \n",
       "1  3410.389399      3869.349602   6448.271112       2     9      NaN   \n",
       "2  7226.301740      8567.549110  12999.542264       2    12      NaN   \n",
       "3  7226.301740      8567.549110  12999.542264       2    12      NaN   \n",
       "4  7226.301740      8567.549110  12999.542264       2    12      NaN   \n",
       "\n",
       "   totalwgt_lb  \n",
       "0       8.8125  \n",
       "1       7.8750  \n",
       "2       9.1250  \n",
       "3       7.0000  \n",
       "4       6.1875  \n",
       "\n",
       "[5 rows x 244 columns]"
      ]
     },
     "execution_count": 6,
     "metadata": {},
     "output_type": "execute_result"
    }
   ],
   "source": [
    "# Load Pregency data in a Dataframe\n",
    "preg_df = nsfg.ReadFemPreg()\n",
    "preg_df.head()"
   ]
  },
  {
   "cell_type": "code",
   "execution_count": 7,
   "id": "21e60725",
   "metadata": {},
   "outputs": [],
   "source": [
    "# Filter only live birth records\n",
    "live_birth = preg_df[preg_df.outcome == 1]"
   ]
  },
  {
   "cell_type": "code",
   "execution_count": 8,
   "id": "bee793f2",
   "metadata": {},
   "outputs": [
    {
     "data": {
      "text/plain": [
       "9148"
      ]
     },
     "execution_count": 8,
     "metadata": {},
     "output_type": "execute_result"
    }
   ],
   "source": [
    "len(live_birth)"
   ]
  },
  {
   "cell_type": "code",
   "execution_count": 9,
   "id": "dacc60da",
   "metadata": {},
   "outputs": [],
   "source": [
    "# Drop the records that hasa NA or null value in age at pregnancy and total weight of live babies\n",
    "live_age_wt_df = live_birth.dropna(subset=['agepreg', 'totalwgt_lb'])"
   ]
  },
  {
   "cell_type": "code",
   "execution_count": 10,
   "id": "e2dbc2cc",
   "metadata": {},
   "outputs": [],
   "source": [
    "# reduce the dimesnsion of the dataframe to include only age at pregnancy and total weight of live babies features or columns\n",
    "live_age_wt_df = live_age_wt_df[['agepreg', 'totalwgt_lb']]"
   ]
  },
  {
   "cell_type": "code",
   "execution_count": 11,
   "id": "3ffbc543",
   "metadata": {},
   "outputs": [],
   "source": [
    "# sort the dataframe by age to group that data \n",
    "live_age_wt_df = live_age_wt_df.sort_values(by='agepreg')"
   ]
  },
  {
   "cell_type": "code",
   "execution_count": 12,
   "id": "5f3f2d98",
   "metadata": {},
   "outputs": [
    {
     "data": {
      "text/html": [
       "<div>\n",
       "<style scoped>\n",
       "    .dataframe tbody tr th:only-of-type {\n",
       "        vertical-align: middle;\n",
       "    }\n",
       "\n",
       "    .dataframe tbody tr th {\n",
       "        vertical-align: top;\n",
       "    }\n",
       "\n",
       "    .dataframe thead th {\n",
       "        text-align: right;\n",
       "    }\n",
       "</style>\n",
       "<table border=\"1\" class=\"dataframe\">\n",
       "  <thead>\n",
       "    <tr style=\"text-align: right;\">\n",
       "      <th></th>\n",
       "      <th>agepreg</th>\n",
       "      <th>totalwgt_lb</th>\n",
       "    </tr>\n",
       "  </thead>\n",
       "  <tbody>\n",
       "    <tr>\n",
       "      <th>count</th>\n",
       "      <td>9038.000000</td>\n",
       "      <td>9038.000000</td>\n",
       "    </tr>\n",
       "    <tr>\n",
       "      <th>mean</th>\n",
       "      <td>24.936129</td>\n",
       "      <td>7.265628</td>\n",
       "    </tr>\n",
       "    <tr>\n",
       "      <th>std</th>\n",
       "      <td>5.553985</td>\n",
       "      <td>1.408293</td>\n",
       "    </tr>\n",
       "    <tr>\n",
       "      <th>min</th>\n",
       "      <td>10.830000</td>\n",
       "      <td>0.125000</td>\n",
       "    </tr>\n",
       "    <tr>\n",
       "      <th>25%</th>\n",
       "      <td>20.500000</td>\n",
       "      <td>6.500000</td>\n",
       "    </tr>\n",
       "    <tr>\n",
       "      <th>50%</th>\n",
       "      <td>24.330000</td>\n",
       "      <td>7.375000</td>\n",
       "    </tr>\n",
       "    <tr>\n",
       "      <th>75%</th>\n",
       "      <td>28.890000</td>\n",
       "      <td>8.125000</td>\n",
       "    </tr>\n",
       "    <tr>\n",
       "      <th>max</th>\n",
       "      <td>44.080000</td>\n",
       "      <td>15.437500</td>\n",
       "    </tr>\n",
       "  </tbody>\n",
       "</table>\n",
       "</div>"
      ],
      "text/plain": [
       "           agepreg  totalwgt_lb\n",
       "count  9038.000000  9038.000000\n",
       "mean     24.936129     7.265628\n",
       "std       5.553985     1.408293\n",
       "min      10.830000     0.125000\n",
       "25%      20.500000     6.500000\n",
       "50%      24.330000     7.375000\n",
       "75%      28.890000     8.125000\n",
       "max      44.080000    15.437500"
      ]
     },
     "execution_count": 12,
     "metadata": {},
     "output_type": "execute_result"
    }
   ],
   "source": [
    "live_age_wt_df.describe()"
   ]
  },
  {
   "cell_type": "code",
   "execution_count": 14,
   "id": "e3c1ecd7",
   "metadata": {},
   "outputs": [],
   "source": [
    "import pandas as pd\n",
    "# Add group id to the data to bins using the age range ,  break them into 20 groups \n",
    "live_age_wt_df['Percentile'] = pd.qcut(live_age_wt_df['agepreg'], q=20, labels=False)\n"
   ]
  },
  {
   "cell_type": "code",
   "execution_count": 15,
   "id": "23cfeaeb",
   "metadata": {},
   "outputs": [
    {
     "data": {
      "text/html": [
       "<div>\n",
       "<style scoped>\n",
       "    .dataframe tbody tr th:only-of-type {\n",
       "        vertical-align: middle;\n",
       "    }\n",
       "\n",
       "    .dataframe tbody tr th {\n",
       "        vertical-align: top;\n",
       "    }\n",
       "\n",
       "    .dataframe thead th {\n",
       "        text-align: right;\n",
       "    }\n",
       "</style>\n",
       "<table border=\"1\" class=\"dataframe\">\n",
       "  <thead>\n",
       "    <tr style=\"text-align: right;\">\n",
       "      <th></th>\n",
       "      <th>agepreg</th>\n",
       "      <th>totalwgt_lb</th>\n",
       "      <th>Percentile</th>\n",
       "    </tr>\n",
       "  </thead>\n",
       "  <tbody>\n",
       "    <tr>\n",
       "      <th>389</th>\n",
       "      <td>10.83</td>\n",
       "      <td>6.4375</td>\n",
       "      <td>0</td>\n",
       "    </tr>\n",
       "    <tr>\n",
       "      <th>11508</th>\n",
       "      <td>10.91</td>\n",
       "      <td>8.5000</td>\n",
       "      <td>0</td>\n",
       "    </tr>\n",
       "    <tr>\n",
       "      <th>4615</th>\n",
       "      <td>11.75</td>\n",
       "      <td>7.3750</td>\n",
       "      <td>0</td>\n",
       "    </tr>\n",
       "    <tr>\n",
       "      <th>4091</th>\n",
       "      <td>12.66</td>\n",
       "      <td>6.6250</td>\n",
       "      <td>0</td>\n",
       "    </tr>\n",
       "    <tr>\n",
       "      <th>11773</th>\n",
       "      <td>13.50</td>\n",
       "      <td>6.8125</td>\n",
       "      <td>0</td>\n",
       "    </tr>\n",
       "  </tbody>\n",
       "</table>\n",
       "</div>"
      ],
      "text/plain": [
       "       agepreg  totalwgt_lb  Percentile\n",
       "389      10.83       6.4375           0\n",
       "11508    10.91       8.5000           0\n",
       "4615     11.75       7.3750           0\n",
       "4091     12.66       6.6250           0\n",
       "11773    13.50       6.8125           0"
      ]
     },
     "execution_count": 15,
     "metadata": {},
     "output_type": "execute_result"
    }
   ],
   "source": [
    "live_age_wt_df.head()"
   ]
  },
  {
   "cell_type": "code",
   "execution_count": 16,
   "id": "4163ab47",
   "metadata": {},
   "outputs": [],
   "source": [
    "# Group the data using the group column  value\n",
    "grouped_data = live_age_wt_df.groupby('Percentile')"
   ]
  },
  {
   "cell_type": "code",
   "execution_count": 17,
   "id": "590973df",
   "metadata": {},
   "outputs": [
    {
     "data": {
      "text/plain": [
       "20"
      ]
     },
     "execution_count": 17,
     "metadata": {},
     "output_type": "execute_result"
    }
   ],
   "source": [
    "len(grouped_data)"
   ]
  },
  {
   "cell_type": "code",
   "execution_count": 18,
   "id": "86454a64",
   "metadata": {},
   "outputs": [],
   "source": [
    "import thinkstats2\n",
    "import thinkplot\n",
    "# find the mean value of the age  for each group\n",
    "ages = [group.agepreg.mean() for i, group in grouped_data]\n",
    "# find the cdf value for each record in the group\n",
    "cdfs = [thinkstats2.Cdf(group.totalwgt_lb) for i, group in grouped_data]"
   ]
  },
  {
   "cell_type": "code",
   "execution_count": 19,
   "id": "fc853d30",
   "metadata": {},
   "outputs": [
    {
     "data": {
      "image/png": "[encoded data removed]",
      "text/plain": [
       "<Figure size 640x480 with 1 Axes>"
      ]
     },
     "metadata": {},
     "output_type": "display_data"
    }
   ],
   "source": [
    "thinkplot.PrePlot(3)\n",
    "\n",
    "# Find the 25th percentile for each group among the cdf values  and plot them\n",
    "tot_weight1 = [cdf.Percentile(25) for cdf in cdfs]\n",
    "thinkplot.Plot(ages, tot_weight1, label='25th')\n",
    "\n",
    "# Find the 50th percentile for each group among the cdf values and plot them\n",
    "tot_weight1 = [cdf.Percentile(50) for cdf in cdfs]\n",
    "thinkplot.Plot(ages, tot_weight1, label='50th')\n",
    "\n",
    "# Find the 75th percentile for each group among the cdf values and plot them\n",
    "tot_weight1 = [cdf.Percentile(75) for cdf in cdfs]\n",
    "thinkplot.Plot(ages, tot_weight1, label='75th')\n",
    "\n",
    "thinkplot.Config(xlabel=\"Mother's age (years)\",\n",
    "                     ylabel='Birth weight (lbs)',\n",
    "                     xlim=[15, 40], legend=True)"
   ]
  },
  {
   "cell_type": "code",
   "execution_count": 20,
   "id": "8a6ad52a",
   "metadata": {},
   "outputs": [
    {
     "name": "stdout",
     "output_type": "stream",
     "text": [
      "Correlation :  0.06883397035410908\n"
     ]
    }
   ],
   "source": [
    "# Pearson correlation between age and weight\n",
    "from scipy.stats import pearsonr\n",
    "\n",
    "pearson_corr, p_value = pearsonr(live_age_wt_df['agepreg'], live_age_wt_df['totalwgt_lb'])\n",
    "print('Correlation : ', pearson_corr)"
   ]
  },
  {
   "cell_type": "code",
   "execution_count": 21,
   "id": "59b860d9",
   "metadata": {},
   "outputs": [
    {
     "name": "stdout",
     "output_type": "stream",
     "text": [
      "Spearman's Correlation :  0.09461004109658226\n"
     ]
    }
   ],
   "source": [
    "# Spearman correlation between age and weight\n",
    "from scipy.stats import spearmanr\n",
    "spearman_corr, p_value = spearmanr(live_age_wt_df['agepreg'], live_age_wt_df['totalwgt_lb'])\n",
    "print(\"Spearman's Correlation : \", spearman_corr )"
   ]
  },
  {
   "cell_type": "markdown",
   "id": "8106028c",
   "metadata": {},
   "source": [
    "### Excercise Chapter 8 ###\n",
    "-----"
   ]
  },
  {
   "cell_type": "markdown",
   "id": "d51aa3b7",
   "metadata": {},
   "source": [
    "**Excercise 8-1**\n",
    "In this chapter we used x-bar and median to estimate µ, and found that x-bar yields lower MSE. Also, we used S2 and Sn−12 to estimate σ, and found that S2 is biased and Sn−12 unbiased.\n",
    "Run similar experiments to see if x and median are biased estimates of µ. Also check whether S2 or Sn−12 yields a lower MSE."
   ]
  },
  {
   "cell_type": "code",
   "execution_count": 22,
   "id": "0d8a9b10",
   "metadata": {},
   "outputs": [],
   "source": [
    "import numpy as np\n",
    "import random\n",
    "from sklearn.metrics import mean_squared_error\n",
    "\n",
    "random.seed(500)\n",
    "\n",
    "# A custom RMSE calculation method that compares the predicted values against a \n",
    "# normal distribution that has actual value of an array of 0s \n",
    "# here used for (mean/ meadin etc)\n",
    "def calculateRMSE(predicted_values, act_val):\n",
    "    # create a list of actual values for each iteration which is ideal one \n",
    "    actual_values = np.full(len(predicted_values), act_val)\n",
    "    return mean_squared_error(actual_values, predicted_values, squared=False)\n",
    "\n",
    "\n",
    "\n",
    "# A custom MeanError calculation method that compares the predicted values against a \n",
    "# normal distribution that has actual value of an array of 0s \n",
    "# here used for (mean/ meadin etc)\n",
    "def calculateMeanError(predicted_values, act_val):\n",
    "    # create a list of actual values for each iteration which is ideal one \n",
    "    actual_values = np.full(len(predicted_values), act_val)\n",
    "    return np.mean(actual_values - predicted_values)\n",
    "\n",
    "\n",
    "\n"
   ]
  },
  {
   "cell_type": "markdown",
   "id": "fbc4fefb",
   "metadata": {},
   "source": [
    "**Run  experiments to see if  x¯  and median are biased estimates of µ.**"
   ]
  },
  {
   "cell_type": "code",
   "execution_count": 23,
   "id": "e959d149",
   "metadata": {},
   "outputs": [],
   "source": [
    "# create a function to run muliple iterations to find Mean error\n",
    "def runMeanErrorIterationsEstimatesForGivenSample(num_of_sample_values, iterations,  pop_mean, pop_std):\n",
    "    # create two list to hold the mean value and median value for each iteration\n",
    "    means_lst = []\n",
    "    medians_lst = []\n",
    "    # perform iterations as per the value provided\n",
    "    for j in range(iterations):\n",
    "        # create a  normal distribution random values for the given range\n",
    "        random_values = [random.gauss(pop_mean, pop_std) for i in range(num_of_sample_values)]\n",
    "        # find the mean value of the sample\n",
    "        sampl_xbar = np.mean(random_values)\n",
    "        # find the median value of the sample\n",
    "        sampl_median = np.median(random_values)\n",
    "        # Add the mean value to the mean list\n",
    "        means_lst.append(sampl_xbar)\n",
    "        # Add the median value to the median list\n",
    "        medians_lst.append(sampl_median)\n",
    "\n",
    "    # find the MeanError of the predicted mean/median vs actual ideal normal distribution mean/median values\n",
    "    print('*** Mean Error For Given Iterations : ', iterations, ' ***')\n",
    "    print('Mean error xbar',   calculateMeanError(means_lst, pop_mean))\n",
    "    print('Mean error median', calculateMeanError(medians_lst, pop_mean))\n",
    "\n",
    "\n",
    "\n",
    "    \n",
    "# create a function to run muliple iterations to find RMSE error    \n",
    "def runRMSEIterationsEstimatesForGivenSample(num_of_sample_values, iterations,  pop_mean, pop_std):\n",
    "    # create two list to hold the biased variance value and unbiased variance value for each iteration\n",
    "    biased_var_lst = []\n",
    "    unbiased_var_lst = []\n",
    "    # perform iterations as per the value provided\n",
    "    for j in range(iterations):\n",
    "        # create a  normal distribution random values for the given range\n",
    "        random_values     = [random.gauss(pop_mean, pop_std) for i in range(num_of_sample_values)]\n",
    "        # calculate the variance for the given sample values\n",
    "        sampl_var         = np.var(random_values)\n",
    "        # When ddof  (Delta Degrees of Freedom) is set to 1, it computes the sample variance, \n",
    "        # which is an unbiased estimator of the population variance.\n",
    "        sampl_unbiased_var = np.var(random_values, ddof=1)\n",
    "        # Add the sample variance value to the biased list\n",
    "        biased_var_lst.append(sampl_var)\n",
    "        # Add the unbiased variance value to the unbiased list\n",
    "        unbiased_var_lst.append(sampl_unbiased_var)\n",
    "        \n",
    "        #  Derive the variance from standard deviation\n",
    "        ideal_var = pop_std**2\n",
    "\n",
    "    # Find the Root mean square error between biased and unbiased variances\n",
    "    print('*** RMSE For Given Iterations : ', iterations, ' ***')\n",
    "    print('RMSE for biased variance ',   calculateRMSE(biased_var_lst,  ideal_var))\n",
    "    print('RMSE for unbiased variance ', calculateRMSE(unbiased_var_lst, ideal_var))\n",
    "\n",
    "    \n"
   ]
  },
  {
   "cell_type": "code",
   "execution_count": 24,
   "id": "966680f2",
   "metadata": {},
   "outputs": [
    {
     "name": "stdout",
     "output_type": "stream",
     "text": [
      "*** Mean Error For Given Iterations :  1000  ***\n",
      "Mean error xbar 0.011491445808427155\n",
      "Mean error median 0.008120299208967232\n",
      "*** RMSE For Given Iterations :  1000  ***\n",
      "RMSE for biased variance  0.4357547754693213\n",
      "RMSE for unbiased variance  0.470826782474093\n"
     ]
    }
   ],
   "source": [
    "# Calculate Mean error and RMSE for \n",
    "# Random value = 10\n",
    "# Iterations = 1000\n",
    "# population mean = 0 (ideal Gaussian normal distribution)\n",
    "# population standard deviation = 1  (ideal Gaussian normal distribution)\n",
    "runMeanErrorIterationsEstimatesForGivenSample(10,1000, 0, 1)\n",
    "runRMSEIterationsEstimatesForGivenSample(10,1000, 0, 1)"
   ]
  },
  {
   "cell_type": "code",
   "execution_count": 25,
   "id": "674c63e1",
   "metadata": {},
   "outputs": [
    {
     "name": "stdout",
     "output_type": "stream",
     "text": [
      "*** Mean Error For Given Iterations :  10000  ***\n",
      "Mean error xbar 0.0004955820181550536\n",
      "Mean error median 0.0012481148013734488\n",
      "*** RMSE For Given Iterations :  10000  ***\n",
      "RMSE for biased variance  0.4391128304417425\n",
      "RMSE for unbiased variance  0.4739771075196679\n"
     ]
    }
   ],
   "source": [
    "# Calculate Mean error and RMSE for \n",
    "# Random value = 10\n",
    "# Iterations = 10000\n",
    "# population mean = 0 (ideal Gaussian normal distribution)\n",
    "# population standard deviation = 1  (ideal Gaussian normal distribution)\n",
    "runMeanErrorIterationsEstimatesForGivenSample(10,10000, 0, 1)\n",
    "runRMSEIterationsEstimatesForGivenSample(10,10000, 0, 1)"
   ]
  },
  {
   "cell_type": "code",
   "execution_count": 26,
   "id": "07d6a1bb",
   "metadata": {},
   "outputs": [
    {
     "name": "stdout",
     "output_type": "stream",
     "text": [
      "*** Mean Error For Given Iterations :  100000  ***\n",
      "Mean error xbar 0.0008079729656354251\n",
      "Mean error median -0.0002676186091319888\n",
      "*** RMSE For Given Iterations :  100000  ***\n",
      "RMSE for biased variance  0.43640260238612344\n",
      "RMSE for unbiased variance  0.4724552752031351\n"
     ]
    }
   ],
   "source": [
    "# Calculate Mean error and RMSE for \n",
    "# Random value = 10\n",
    "# Iterations = 100000\n",
    "# population mean = 0 (ideal Gaussian normal distribution)\n",
    "# population standard deviation = 1  (ideal Gaussian normal distribution)\n",
    "runMeanErrorIterationsEstimatesForGivenSample(10,100000, 0, 1)\n",
    "runRMSEIterationsEstimatesForGivenSample(10,100000, 0, 1)"
   ]
  },
  {
   "cell_type": "markdown",
   "id": "1b2321b1",
   "metadata": {},
   "source": [
    "**Findings for Excercise 8-1**\n",
    "- Mean error  decreases as number of iterations increases  which shows that more samples/ iterations reduces Mean error\n",
    "- Variance holds up its position and not impacted by higher number of samples or iterations.   The diffference between biased and unbiased is maintained.\n",
    "----"
   ]
  },
  {
   "cell_type": "markdown",
   "id": "67503b0b",
   "metadata": {},
   "source": [
    "**Exercise 2**  \n",
    "Suppose you draw a sample with size n=10 from an exponential distribution with λ=2. Simulate this experiment 1000 times and plot the sampling distribution of the estimate L. Compute the standard error of the estimate and the 90% confidence interval.\n",
    "Repeat the experiment with a few different values of n and make a plot of standard error versus n."
   ]
  },
  {
   "cell_type": "code",
   "execution_count": 41,
   "id": "9cf1053a",
   "metadata": {},
   "outputs": [],
   "source": [
    "import math\n",
    "\n",
    "def caluculateAndPlotExponentialDistribution(lamda, size_of_sample, iterations, plot_cdf=False):\n",
    "    # create a list to hold lamda values \n",
    "    lamda_val_lst  = []\n",
    "    stderr_lst     = []\n",
    "    # perform iterations as per the value provided\n",
    "    for j in range(iterations):\n",
    "        # generate exponential random values for tht erequested number of variables\n",
    "        rndm_exp_val  = np.random.exponential(1.0/lamda, size_of_sample)\n",
    "        # calculate lambda values for the given sample\n",
    "        lamda_bar = 1.0 / np.mean(rndm_exp_val)\n",
    "        #Add the lambda bar to the lambda list\n",
    "        lamda_val_lst.append(lamda_bar)\n",
    "        # Stadard error is calculated by dividing standard deviation of samply by square root of size of sample \n",
    "        # and add to the list\n",
    "        stderr_lst.append(np.std(rndm_exp_val) / math.sqrt(size_of_sample))\n",
    "\n",
    "    # use RMSE to find the standard error of the estimate \n",
    "    stderr = calculateRMSE(lamda_val_lst, lamda)\n",
    "    # Print tradtional standrad error \n",
    "    # Standard error mean using standard deviation\n",
    "    sd_stnd_error = sum(stderr_lst) / len(stderr_lst)\n",
    "    \n",
    "\n",
    "    cdf = thinkstats2.Cdf(lamda_val_lst)\n",
    "    ci_5  = cdf.Percentile(5)\n",
    "    ci_95 = cdf.Percentile(95)\n",
    "    print('*** Std Error and CI For Given Iterations : ', iterations, 'sample size: ', size_of_sample, ' ***')\n",
    "    print('Standard error', stderr)\n",
    "    print('confidence interval 90 percentile : ', cdf.Percentile(90))\n",
    "    if(plot_cdf):\n",
    "        thinkplot.Plot([ci_5, ci_5], [0, 1], color='0.8', linewidth=3)\n",
    "        thinkplot.Plot([ci_95, ci_95], [0, 1], color='0.8', linewidth=3)\n",
    "        # plot the CDF\n",
    "        thinkplot.Cdf(cdf)\n",
    "        thinkplot.Config(xlabel='estimate',\n",
    "                         ylabel='CDF',\n",
    "                         title='Sampling distribution')\n",
    "\n",
    "    return stderr, sd_stnd_error\n",
    "\n",
    "    \n",
    "\n"
   ]
  },
  {
   "cell_type": "code",
   "execution_count": 42,
   "id": "0a4d1865",
   "metadata": {},
   "outputs": [
    {
     "name": "stdout",
     "output_type": "stream",
     "text": [
      "*** Std Error and CI For Given Iterations :  1000 sample size:  10  ***\n",
      "Standard error 0.7501509951261888\n",
      "confidence interval 90 percentile :  3.1398739550277086\n"
     ]
    },
    {
     "data": {
      "text/plain": [
       "(0.7501509951261888, 0.1407199099174386)"
      ]
     },
     "execution_count": 42,
     "metadata": {},
     "output_type": "execute_result"
    },
    {
     "data": {
      "image/png": "[encoded data removed]",
      "text/plain": [
       "<Figure size 640x480 with 1 Axes>"
      ]
     },
     "metadata": {},
     "output_type": "display_data"
    }
   ],
   "source": [
    "caluculateAndPlotExponentialDistribution(2, 10, 1000, plot_cdf=True)"
   ]
  },
  {
   "cell_type": "code",
   "execution_count": 51,
   "id": "c33d4782",
   "metadata": {},
   "outputs": [
    {
     "name": "stdout",
     "output_type": "stream",
     "text": [
      "*** Std Error and CI For Given Iterations :  1000 sample size:  10  ***\n",
      "Standard error 0.7281611374913193\n",
      "confidence interval 90 percentile :  3.1337867530706176\n",
      "*** Std Error and CI For Given Iterations :  1000 sample size:  15  ***\n",
      "Standard error 0.6043818978446495\n",
      "confidence interval 90 percentile :  2.882703162158088\n",
      "*** Std Error and CI For Given Iterations :  1000 sample size:  15  ***\n",
      "Standard error 0.6336021993010196\n",
      "confidence interval 90 percentile :  2.933948939061565\n",
      "*** Std Error and CI For Given Iterations :  1000 sample size:  20  ***\n",
      "Standard error 0.47833439238386194\n",
      "confidence interval 90 percentile :  2.681362816549604\n",
      "*** Std Error and CI For Given Iterations :  1000 sample size:  25  ***\n",
      "Standard error 0.44188076577358365\n",
      "confidence interval 90 percentile :  2.656844940893583\n",
      "*** Std Error and CI For Given Iterations :  1000 sample size:  30  ***\n",
      "Standard error 0.3783366709936328\n",
      "confidence interval 90 percentile :  2.5212421104587177\n",
      "*** Std Error and CI For Given Iterations :  1000 sample size:  35  ***\n",
      "Standard error 0.36931157052510816\n",
      "confidence interval 90 percentile :  2.52799544593743\n",
      "*** Std Error and CI For Given Iterations :  1000 sample size:  40  ***\n",
      "Standard error 0.3285925588270561\n",
      "confidence interval 90 percentile :  2.4745989827232093\n",
      "*** Std Error and CI For Given Iterations :  1000 sample size:  45  ***\n",
      "Standard error 0.3155701819219782\n",
      "confidence interval 90 percentile :  2.4286119305287666\n",
      "*** Std Error and CI For Given Iterations :  1000 sample size:  50  ***\n",
      "Standard error 0.3058668643126214\n",
      "confidence interval 90 percentile :  2.465351618542315\n"
     ]
    }
   ],
   "source": [
    "# create a list of size of the sample to run multiple iterations\n",
    "num_ofsample = [10,15,15,20,25,30,35,40,45,50]\n",
    "# a list to hold \n",
    "std_err_lst     = []\n",
    "sd_stnd_err_lst =  []\n",
    "for i in range(len(num_ofsample)):\n",
    "    std_err, sd_stnd_err = caluculateAndPlotExponentialDistribution(2, num_ofsample[i], 1000)\n",
    "    std_err_lst.append( std_err ) \n",
    "    sd_stnd_err_lst.append( sd_stnd_err )\n"
   ]
  },
  {
   "cell_type": "code",
   "execution_count": 52,
   "id": "664a6ed0",
   "metadata": {},
   "outputs": [
    {
     "data": {
      "text/plain": [
       "[0.7281611374913193,\n",
       " 0.6043818978446495,\n",
       " 0.6336021993010196,\n",
       " 0.47833439238386194,\n",
       " 0.44188076577358365,\n",
       " 0.3783366709936328,\n",
       " 0.36931157052510816,\n",
       " 0.3285925588270561,\n",
       " 0.3155701819219782,\n",
       " 0.3058668643126214]"
      ]
     },
     "execution_count": 52,
     "metadata": {},
     "output_type": "execute_result"
    }
   ],
   "source": [
    "std_err_lst"
   ]
  },
  {
   "cell_type": "code",
   "execution_count": 50,
   "id": "ed0c9f17",
   "metadata": {},
   "outputs": [
    {
     "data": {
      "image/png": "[encoded data removed]",
      "text/plain": [
       "<Figure size 640x480 with 1 Axes>"
      ]
     },
     "metadata": {},
     "output_type": "display_data"
    }
   ],
   "source": [
    "#thinkplot.PrePlot(2)\n",
    "thinkplot.Plot(num_ofsample, std_err_lst, label='RMSE of standard error')\n",
    "#thinkplot.Plot(num_ofsample, sd_stnd_err_lst, label='SD based standard error')\n",
    "\n",
    "thinkplot.Config(xlabel=\"number of sample\",\n",
    "                     ylabel='Standard error',\n",
    "                      legend=True)"
   ]
  },
  {
   "cell_type": "code",
   "execution_count": null,
   "id": "320b86fa",
   "metadata": {},
   "outputs": [],
   "source": []
  },
  {
   "cell_type": "code",
   "execution_count": null,
   "id": "bdee5d8e",
   "metadata": {},
   "outputs": [],
   "source": []
  }
 ],
 "metadata": {
  "kernelspec": {
   "display_name": "Python 3 (ipykernel)",
   "language": "python",
   "name": "python3"
  },
  "language_info": {
   "codemirror_mode": {
    "name": "ipython",
    "version": 3
   },
   "file_extension": ".py",
   "mimetype": "text/x-python",
   "name": "python",
   "nbconvert_exporter": "python",
   "pygments_lexer": "ipython3",
   "version": "3.11.5"
  }
 },
 "nbformat": 4,
 "nbformat_minor": 5
}
