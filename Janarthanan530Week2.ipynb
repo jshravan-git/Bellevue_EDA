{
 "cells": [
  {
   "cell_type": "markdown",
   "id": "31130863",
   "metadata": {},
   "source": [
    "#  DSC530-T304 Data Exploration and Analysis - Week 2 #\n",
    "\n",
    "## Python Basics & Traditional Data Quality versus EDA ##\n",
    "\n",
    "Python basic code samples \n",
    "\n",
    "-----"
   ]
  },
  {
   "cell_type": "markdown",
   "id": "48f80e15",
   "metadata": {},
   "source": [
    "* Q1 :  Display the text “Hello World! My name is ....\" "
   ]
  },
  {
   "cell_type": "code",
   "execution_count": 1,
   "id": "0891be08",
   "metadata": {},
   "outputs": [
    {
     "name": "stdout",
     "output_type": "stream",
     "text": [
      "Hello World! My name is Saravanan Janarthanan\n"
     ]
    }
   ],
   "source": [
    "# Use print method to print the required string\n",
    "print( \"Hello World! My name is Saravanan Janarthanan\" )"
   ]
  },
  {
   "cell_type": "markdown",
   "id": "edcec1f3",
   "metadata": {},
   "source": [
    "* Q2 : Add two numbers together"
   ]
  },
  {
   "cell_type": "code",
   "execution_count": 2,
   "id": "ac2b672f",
   "metadata": {},
   "outputs": [
    {
     "data": {
      "text/plain": [
       "132"
      ]
     },
     "execution_count": 2,
     "metadata": {},
     "output_type": "execute_result"
    }
   ],
   "source": [
    "# declare two variables and then add them \n",
    "num_q2_1 = 55\n",
    "num_q2_2 = 77\n",
    "\n",
    "num_q2_1 + num_q2_2"
   ]
  },
  {
   "cell_type": "code",
   "execution_count": 3,
   "id": "2089e1c6",
   "metadata": {},
   "outputs": [
    {
     "name": "stdout",
     "output_type": "stream",
     "text": [
      "Adding two numbers :  55  +  77  =  132\n"
     ]
    }
   ],
   "source": [
    "# print the added total\n",
    "print(\"Adding two numbers : \" , num_q2_1, \" + \",  num_q2_2 , \" = \", num_q2_1 + num_q2_2)"
   ]
  },
  {
   "cell_type": "markdown",
   "id": "cf2fe377",
   "metadata": {},
   "source": [
    "* Q3 : Subtract a number from another number"
   ]
  },
  {
   "cell_type": "code",
   "execution_count": 4,
   "id": "a8e07907",
   "metadata": {},
   "outputs": [
    {
     "data": {
      "text/plain": [
       "20"
      ]
     },
     "execution_count": 4,
     "metadata": {},
     "output_type": "execute_result"
    }
   ],
   "source": [
    "# declare two variables with values\n",
    "num_q3_1 = 45\n",
    "num_q3_2 = 65\n",
    "\n",
    "#subtract one variable from another\n",
    "num_q3_2 - num_q3_1"
   ]
  },
  {
   "cell_type": "code",
   "execution_count": 5,
   "id": "cb9d111b",
   "metadata": {},
   "outputs": [
    {
     "name": "stdout",
     "output_type": "stream",
     "text": [
      "Subtracting  45  from  65  =  20\n"
     ]
    }
   ],
   "source": [
    "# print the subtarction result\n",
    "print(\"Subtracting \", num_q3_1, \" from \", num_q3_2,  \" = \" ,  num_q3_2 - num_q3_1)"
   ]
  },
  {
   "cell_type": "markdown",
   "id": "830ab896",
   "metadata": {},
   "source": [
    "* Q4 Multiply two numbers"
   ]
  },
  {
   "cell_type": "code",
   "execution_count": 6,
   "id": "4dc6cdf3",
   "metadata": {},
   "outputs": [
    {
     "data": {
      "text/plain": [
       "90"
      ]
     },
     "execution_count": 6,
     "metadata": {},
     "output_type": "execute_result"
    }
   ],
   "source": [
    "# declare two variables with values\n",
    "num_q4_1 = 15\n",
    "num_q4_2 = 6\n",
    "\n",
    "# Multiply both the variables\n",
    "num_q4_1 * num_q4_2"
   ]
  },
  {
   "cell_type": "code",
   "execution_count": 7,
   "id": "fb6b8285",
   "metadata": {},
   "outputs": [
    {
     "name": "stdout",
     "output_type": "stream",
     "text": [
      "Multiplying  15  and  6  =  90\n"
     ]
    }
   ],
   "source": [
    "# print the multiplication product result\n",
    "print(\"Multiplying \", num_q4_1, \" and \", num_q4_2,  \" = \" ,  num_q4_1 * num_q4_2)"
   ]
  },
  {
   "cell_type": "markdown",
   "id": "c84d283c",
   "metadata": {},
   "source": [
    "* Q5: Divide between two numbers"
   ]
  },
  {
   "cell_type": "code",
   "execution_count": 8,
   "id": "7097e971",
   "metadata": {},
   "outputs": [
    {
     "data": {
      "text/plain": [
       "8.0"
      ]
     },
     "execution_count": 8,
     "metadata": {},
     "output_type": "execute_result"
    }
   ],
   "source": [
    "# declare two variables with values\n",
    "num_q5_1 = 64\n",
    "num_q5_2 = 8\n",
    "\n",
    "# Divide  one variable over other   variable\n",
    "num_q5_1 / num_q5_2"
   ]
  },
  {
   "cell_type": "code",
   "execution_count": 9,
   "id": "c1b91177",
   "metadata": {},
   "outputs": [
    {
     "name": "stdout",
     "output_type": "stream",
     "text": [
      "Dividing  64  by  8  =  8.0\n"
     ]
    }
   ],
   "source": [
    "# print the Division result\n",
    "print(\"Dividing \", num_q5_1, \" by \", num_q5_2,  \" = \" ,  num_q5_1 / num_q5_2)"
   ]
  },
  {
   "cell_type": "markdown",
   "id": "8bf8e3bb",
   "metadata": {},
   "source": [
    "* Q6 Concatenate two strings together (any words)"
   ]
  },
  {
   "cell_type": "code",
   "execution_count": 10,
   "id": "0264b208",
   "metadata": {},
   "outputs": [
    {
     "data": {
      "text/plain": [
       "'String One String two '"
      ]
     },
     "execution_count": 10,
     "metadata": {},
     "output_type": "execute_result"
    }
   ],
   "source": [
    "# Declate two string variables\n",
    "str_q6_1 = \"String One \"\n",
    "str_q6_2 = \"String two \"\n",
    "\n",
    "# Concatenate those two string variables using + operator\n",
    "str_q6_1 + str_q6_2"
   ]
  },
  {
   "cell_type": "code",
   "execution_count": 11,
   "id": "013dae33",
   "metadata": {},
   "outputs": [
    {
     "name": "stdout",
     "output_type": "stream",
     "text": [
      "Concatenating two string ' String One  ' and ' String two  ' : ' String One String two  '\n"
     ]
    }
   ],
   "source": [
    "# Print the concatenated string\n",
    "print(\"Concatenating two string '\", str_q6_1, \"' and '\", str_q6_2,  \"' : '\" , str_q6_1 + str_q6_2, \"'\")"
   ]
  },
  {
   "cell_type": "markdown",
   "id": "52a70d89",
   "metadata": {},
   "source": [
    "* Q7 Create a list of 4 items (can be strings, numbers, both)"
   ]
  },
  {
   "cell_type": "code",
   "execution_count": 12,
   "id": "e36e8ce9",
   "metadata": {},
   "outputs": [
    {
     "data": {
      "text/plain": [
       "[75, 'Bellevue Winter 530', 93.5, 'DSC530-T304 Data Exploration and Analysis']"
      ]
     },
     "execution_count": 12,
     "metadata": {},
     "output_type": "execute_result"
    }
   ],
   "source": [
    "# Declare a list and initialize with various data type values\n",
    "list_q7 = [75,  \"Bellevue Winter 530\", 93.5, \"DSC530-T304 Data Exploration and Analysis\"  ]\n",
    "list_q7"
   ]
  },
  {
   "cell_type": "code",
   "execution_count": 13,
   "id": "32a05ff7",
   "metadata": {},
   "outputs": [
    {
     "name": "stdout",
     "output_type": "stream",
     "text": [
      "List contents :  [75, 'Bellevue Winter 530', 93.5, 'DSC530-T304 Data Exploration and Analysis']\n"
     ]
    }
   ],
   "source": [
    "print(\"List contents : \", list_q7)"
   ]
  },
  {
   "cell_type": "markdown",
   "id": "c4fa58a6",
   "metadata": {},
   "source": [
    "* Q8 Append an item to your list (again, can be a string, number)"
   ]
  },
  {
   "cell_type": "code",
   "execution_count": 14,
   "id": "09b1dc77",
   "metadata": {},
   "outputs": [
    {
     "data": {
      "text/plain": [
       "[75,\n",
       " 'Bellevue Winter 530',\n",
       " 93.5,\n",
       " 'DSC530-T304 Data Exploration and Analysis',\n",
       " 'Week 2 Python Basics',\n",
       " 75,\n",
       " 53.7]"
      ]
     },
     "execution_count": 14,
     "metadata": {},
     "output_type": "execute_result"
    }
   ],
   "source": [
    "#  Append the list with new set of data values\n",
    "list_q7.append(\"Week 2 Python Basics\")\n",
    "list_q7.append(75)\n",
    "list_q7.append(53.7)\n",
    "list_q7"
   ]
  },
  {
   "cell_type": "markdown",
   "id": "b0cda56b",
   "metadata": {},
   "source": [
    "* Q9 Create a tuple with 4 items (can be strings, numbers, both)"
   ]
  },
  {
   "cell_type": "code",
   "execution_count": 15,
   "id": "4e6f4e6c",
   "metadata": {},
   "outputs": [
    {
     "data": {
      "text/plain": [
       "('Data Science Process', 34, 'Traditional data profiling', 37.9)"
      ]
     },
     "execution_count": 15,
     "metadata": {},
     "output_type": "execute_result"
    }
   ],
   "source": [
    "# Declare a tuple and initialize with various data type values\n",
    "tuple_q9 = (\"Data Science Process\",  34,  'Traditional data profiling', 37.9)\n",
    "tuple_q9"
   ]
  },
  {
   "cell_type": "markdown",
   "id": "b2c39169",
   "metadata": {},
   "source": [
    "-----"
   ]
  }
 ],
 "metadata": {
  "kernelspec": {
   "display_name": "Python 3 (ipykernel)",
   "language": "python",
   "name": "python3"
  },
  "language_info": {
   "codemirror_mode": {
    "name": "ipython",
    "version": 3
   },
   "file_extension": ".py",
   "mimetype": "text/x-python",
   "name": "python",
   "nbconvert_exporter": "python",
   "pygments_lexer": "ipython3",
   "version": "3.11.5"
  }
 },
 "nbformat": 4,
 "nbformat_minor": 5
}
