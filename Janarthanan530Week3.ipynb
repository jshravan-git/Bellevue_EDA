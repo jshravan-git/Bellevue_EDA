{
 "cells": [
  {
   "cell_type": "markdown",
   "id": "d1a1596a",
   "metadata": {},
   "source": [
    "#  DSC530-T304 Data Exploration and Analysis - Week 3 #\n",
    "\n",
    "## Exploratory Data Analysis and Distributions ##\n",
    "\n",
    "### Excercise Chapter 1 ###\n",
    "\n",
    "-----"
   ]
  },
  {
   "cell_type": "code",
   "execution_count": 1,
   "id": "df53be9e",
   "metadata": {},
   "outputs": [],
   "source": [
    "# Download pregency and respondent data files from thinkstat\n",
    "\n",
    "from os.path import basename, exists\n",
    "\n",
    "# Declare a function to download the files to local\n",
    "def download(fileurl):\n",
    "    filename = basename(fileurl)\n",
    "    if not exists(filename):\n",
    "        from urllib.request import urlretrieve\n",
    "\n",
    "        local, _ = urlretrieve(fileurl, filename)\n",
    "        print(\"Downloaded \" + local)\n",
    "        \n"
   ]
  },
  {
   "cell_type": "code",
   "execution_count": 2,
   "id": "8ca05893",
   "metadata": {},
   "outputs": [],
   "source": [
    "# Dowload the python and data files to load pregnency and respondent data \n",
    "download(\"https://github.com/AllenDowney/ThinkStats2/raw/master/code/thinkstats2.py\")\n",
    "download(\"https://github.com/AllenDowney/ThinkStats2/raw/master/code/thinkplot.py\")\n",
    "download(\"https://github.com/AllenDowney/ThinkStats2/raw/master/code/nsfg.py\")\n",
    "download(\"https://github.com/AllenDowney/ThinkStats2/raw/master/code/2002FemPreg.dct\")\n",
    "download(\n",
    "    \"https://github.com/AllenDowney/ThinkStats2/raw/master/code/2002FemPreg.dat.gz\"\n",
    ")\n",
    "download(\"https://github.com/AllenDowney/ThinkStats2/raw/master/code/2002FemResp.dct\")\n",
    "download(\"https://github.com/AllenDowney/ThinkStats2/raw/master/code/2002FemResp.dat.gz\")"
   ]
  },
  {
   "cell_type": "code",
   "execution_count": 3,
   "id": "7280e96a",
   "metadata": {},
   "outputs": [],
   "source": [
    "# import the script to laod data\n",
    "import nsfg"
   ]
  },
  {
   "cell_type": "code",
   "execution_count": 4,
   "id": "9ac85194",
   "metadata": {},
   "outputs": [
    {
     "data": {
      "text/html": [
       "<div>\n",
       "<style scoped>\n",
       "    .dataframe tbody tr th:only-of-type {\n",
       "        vertical-align: middle;\n",
       "    }\n",
       "\n",
       "    .dataframe tbody tr th {\n",
       "        vertical-align: top;\n",
       "    }\n",
       "\n",
       "    .dataframe thead th {\n",
       "        text-align: right;\n",
       "    }\n",
       "</style>\n",
       "<table border=\"1\" class=\"dataframe\">\n",
       "  <thead>\n",
       "    <tr style=\"text-align: right;\">\n",
       "      <th></th>\n",
       "      <th>caseid</th>\n",
       "      <th>pregordr</th>\n",
       "      <th>howpreg_n</th>\n",
       "      <th>howpreg_p</th>\n",
       "      <th>moscurrp</th>\n",
       "      <th>nowprgdk</th>\n",
       "      <th>pregend1</th>\n",
       "      <th>pregend2</th>\n",
       "      <th>nbrnaliv</th>\n",
       "      <th>multbrth</th>\n",
       "      <th>...</th>\n",
       "      <th>laborfor_i</th>\n",
       "      <th>religion_i</th>\n",
       "      <th>metro_i</th>\n",
       "      <th>basewgt</th>\n",
       "      <th>adj_mod_basewgt</th>\n",
       "      <th>finalwgt</th>\n",
       "      <th>secu_p</th>\n",
       "      <th>sest</th>\n",
       "      <th>cmintvw</th>\n",
       "      <th>totalwgt_lb</th>\n",
       "    </tr>\n",
       "  </thead>\n",
       "  <tbody>\n",
       "    <tr>\n",
       "      <th>0</th>\n",
       "      <td>1</td>\n",
       "      <td>1</td>\n",
       "      <td>NaN</td>\n",
       "      <td>NaN</td>\n",
       "      <td>NaN</td>\n",
       "      <td>NaN</td>\n",
       "      <td>6.0</td>\n",
       "      <td>NaN</td>\n",
       "      <td>1.0</td>\n",
       "      <td>NaN</td>\n",
       "      <td>...</td>\n",
       "      <td>0</td>\n",
       "      <td>0</td>\n",
       "      <td>0</td>\n",
       "      <td>3410.389399</td>\n",
       "      <td>3869.349602</td>\n",
       "      <td>6448.271112</td>\n",
       "      <td>2</td>\n",
       "      <td>9</td>\n",
       "      <td>NaN</td>\n",
       "      <td>8.8125</td>\n",
       "    </tr>\n",
       "    <tr>\n",
       "      <th>1</th>\n",
       "      <td>1</td>\n",
       "      <td>2</td>\n",
       "      <td>NaN</td>\n",
       "      <td>NaN</td>\n",
       "      <td>NaN</td>\n",
       "      <td>NaN</td>\n",
       "      <td>6.0</td>\n",
       "      <td>NaN</td>\n",
       "      <td>1.0</td>\n",
       "      <td>NaN</td>\n",
       "      <td>...</td>\n",
       "      <td>0</td>\n",
       "      <td>0</td>\n",
       "      <td>0</td>\n",
       "      <td>3410.389399</td>\n",
       "      <td>3869.349602</td>\n",
       "      <td>6448.271112</td>\n",
       "      <td>2</td>\n",
       "      <td>9</td>\n",
       "      <td>NaN</td>\n",
       "      <td>7.8750</td>\n",
       "    </tr>\n",
       "    <tr>\n",
       "      <th>2</th>\n",
       "      <td>2</td>\n",
       "      <td>1</td>\n",
       "      <td>NaN</td>\n",
       "      <td>NaN</td>\n",
       "      <td>NaN</td>\n",
       "      <td>NaN</td>\n",
       "      <td>5.0</td>\n",
       "      <td>NaN</td>\n",
       "      <td>3.0</td>\n",
       "      <td>5.0</td>\n",
       "      <td>...</td>\n",
       "      <td>0</td>\n",
       "      <td>0</td>\n",
       "      <td>0</td>\n",
       "      <td>7226.301740</td>\n",
       "      <td>8567.549110</td>\n",
       "      <td>12999.542264</td>\n",
       "      <td>2</td>\n",
       "      <td>12</td>\n",
       "      <td>NaN</td>\n",
       "      <td>9.1250</td>\n",
       "    </tr>\n",
       "    <tr>\n",
       "      <th>3</th>\n",
       "      <td>2</td>\n",
       "      <td>2</td>\n",
       "      <td>NaN</td>\n",
       "      <td>NaN</td>\n",
       "      <td>NaN</td>\n",
       "      <td>NaN</td>\n",
       "      <td>6.0</td>\n",
       "      <td>NaN</td>\n",
       "      <td>1.0</td>\n",
       "      <td>NaN</td>\n",
       "      <td>...</td>\n",
       "      <td>0</td>\n",
       "      <td>0</td>\n",
       "      <td>0</td>\n",
       "      <td>7226.301740</td>\n",
       "      <td>8567.549110</td>\n",
       "      <td>12999.542264</td>\n",
       "      <td>2</td>\n",
       "      <td>12</td>\n",
       "      <td>NaN</td>\n",
       "      <td>7.0000</td>\n",
       "    </tr>\n",
       "    <tr>\n",
       "      <th>4</th>\n",
       "      <td>2</td>\n",
       "      <td>3</td>\n",
       "      <td>NaN</td>\n",
       "      <td>NaN</td>\n",
       "      <td>NaN</td>\n",
       "      <td>NaN</td>\n",
       "      <td>6.0</td>\n",
       "      <td>NaN</td>\n",
       "      <td>1.0</td>\n",
       "      <td>NaN</td>\n",
       "      <td>...</td>\n",
       "      <td>0</td>\n",
       "      <td>0</td>\n",
       "      <td>0</td>\n",
       "      <td>7226.301740</td>\n",
       "      <td>8567.549110</td>\n",
       "      <td>12999.542264</td>\n",
       "      <td>2</td>\n",
       "      <td>12</td>\n",
       "      <td>NaN</td>\n",
       "      <td>6.1875</td>\n",
       "    </tr>\n",
       "  </tbody>\n",
       "</table>\n",
       "<p>5 rows × 244 columns</p>\n",
       "</div>"
      ],
      "text/plain": [
       "   caseid  pregordr  howpreg_n  howpreg_p  moscurrp  nowprgdk  pregend1  \\\n",
       "0       1         1        NaN        NaN       NaN       NaN       6.0   \n",
       "1       1         2        NaN        NaN       NaN       NaN       6.0   \n",
       "2       2         1        NaN        NaN       NaN       NaN       5.0   \n",
       "3       2         2        NaN        NaN       NaN       NaN       6.0   \n",
       "4       2         3        NaN        NaN       NaN       NaN       6.0   \n",
       "\n",
       "   pregend2  nbrnaliv  multbrth  ...  laborfor_i  religion_i  metro_i  \\\n",
       "0       NaN       1.0       NaN  ...           0           0        0   \n",
       "1       NaN       1.0       NaN  ...           0           0        0   \n",
       "2       NaN       3.0       5.0  ...           0           0        0   \n",
       "3       NaN       1.0       NaN  ...           0           0        0   \n",
       "4       NaN       1.0       NaN  ...           0           0        0   \n",
       "\n",
       "       basewgt  adj_mod_basewgt      finalwgt  secu_p  sest  cmintvw  \\\n",
       "0  3410.389399      3869.349602   6448.271112       2     9      NaN   \n",
       "1  3410.389399      3869.349602   6448.271112       2     9      NaN   \n",
       "2  7226.301740      8567.549110  12999.542264       2    12      NaN   \n",
       "3  7226.301740      8567.549110  12999.542264       2    12      NaN   \n",
       "4  7226.301740      8567.549110  12999.542264       2    12      NaN   \n",
       "\n",
       "   totalwgt_lb  \n",
       "0       8.8125  \n",
       "1       7.8750  \n",
       "2       9.1250  \n",
       "3       7.0000  \n",
       "4       6.1875  \n",
       "\n",
       "[5 rows x 244 columns]"
      ]
     },
     "execution_count": 4,
     "metadata": {},
     "output_type": "execute_result"
    }
   ],
   "source": [
    "# Load Pregency data in a Dataframe\n",
    "preg_df = nsfg.ReadFemPreg()\n",
    "preg_df.head()"
   ]
  },
  {
   "cell_type": "code",
   "execution_count": 5,
   "id": "dceb407a",
   "metadata": {},
   "outputs": [
    {
     "data": {
      "text/html": [
       "<div>\n",
       "<style scoped>\n",
       "    .dataframe tbody tr th:only-of-type {\n",
       "        vertical-align: middle;\n",
       "    }\n",
       "\n",
       "    .dataframe tbody tr th {\n",
       "        vertical-align: top;\n",
       "    }\n",
       "\n",
       "    .dataframe thead th {\n",
       "        text-align: right;\n",
       "    }\n",
       "</style>\n",
       "<table border=\"1\" class=\"dataframe\">\n",
       "  <thead>\n",
       "    <tr style=\"text-align: right;\">\n",
       "      <th></th>\n",
       "      <th>caseid</th>\n",
       "      <th>rscrinf</th>\n",
       "      <th>rdormres</th>\n",
       "      <th>rostscrn</th>\n",
       "      <th>rscreenhisp</th>\n",
       "      <th>rscreenrace</th>\n",
       "      <th>age_a</th>\n",
       "      <th>age_r</th>\n",
       "      <th>cmbirth</th>\n",
       "      <th>agescrn</th>\n",
       "      <th>...</th>\n",
       "      <th>pubassis_i</th>\n",
       "      <th>basewgt</th>\n",
       "      <th>adj_mod_basewgt</th>\n",
       "      <th>finalwgt</th>\n",
       "      <th>secu_r</th>\n",
       "      <th>sest</th>\n",
       "      <th>cmintvw</th>\n",
       "      <th>cmlstyr</th>\n",
       "      <th>screentime</th>\n",
       "      <th>intvlngth</th>\n",
       "    </tr>\n",
       "  </thead>\n",
       "  <tbody>\n",
       "    <tr>\n",
       "      <th>0</th>\n",
       "      <td>2298</td>\n",
       "      <td>1</td>\n",
       "      <td>5</td>\n",
       "      <td>5</td>\n",
       "      <td>1</td>\n",
       "      <td>5.0</td>\n",
       "      <td>27</td>\n",
       "      <td>27</td>\n",
       "      <td>902</td>\n",
       "      <td>27</td>\n",
       "      <td>...</td>\n",
       "      <td>0</td>\n",
       "      <td>3247.916977</td>\n",
       "      <td>5123.759559</td>\n",
       "      <td>5556.717241</td>\n",
       "      <td>2</td>\n",
       "      <td>18</td>\n",
       "      <td>1234</td>\n",
       "      <td>1222</td>\n",
       "      <td>18:26:36</td>\n",
       "      <td>110.492667</td>\n",
       "    </tr>\n",
       "    <tr>\n",
       "      <th>1</th>\n",
       "      <td>5012</td>\n",
       "      <td>1</td>\n",
       "      <td>5</td>\n",
       "      <td>1</td>\n",
       "      <td>5</td>\n",
       "      <td>5.0</td>\n",
       "      <td>42</td>\n",
       "      <td>42</td>\n",
       "      <td>718</td>\n",
       "      <td>42</td>\n",
       "      <td>...</td>\n",
       "      <td>0</td>\n",
       "      <td>2335.279149</td>\n",
       "      <td>2846.799490</td>\n",
       "      <td>4744.191350</td>\n",
       "      <td>2</td>\n",
       "      <td>18</td>\n",
       "      <td>1233</td>\n",
       "      <td>1221</td>\n",
       "      <td>16:30:59</td>\n",
       "      <td>64.294000</td>\n",
       "    </tr>\n",
       "    <tr>\n",
       "      <th>2</th>\n",
       "      <td>11586</td>\n",
       "      <td>1</td>\n",
       "      <td>5</td>\n",
       "      <td>1</td>\n",
       "      <td>5</td>\n",
       "      <td>5.0</td>\n",
       "      <td>43</td>\n",
       "      <td>43</td>\n",
       "      <td>708</td>\n",
       "      <td>43</td>\n",
       "      <td>...</td>\n",
       "      <td>0</td>\n",
       "      <td>2335.279149</td>\n",
       "      <td>2846.799490</td>\n",
       "      <td>4744.191350</td>\n",
       "      <td>2</td>\n",
       "      <td>18</td>\n",
       "      <td>1234</td>\n",
       "      <td>1222</td>\n",
       "      <td>18:19:09</td>\n",
       "      <td>75.149167</td>\n",
       "    </tr>\n",
       "    <tr>\n",
       "      <th>3</th>\n",
       "      <td>6794</td>\n",
       "      <td>5</td>\n",
       "      <td>5</td>\n",
       "      <td>4</td>\n",
       "      <td>1</td>\n",
       "      <td>5.0</td>\n",
       "      <td>15</td>\n",
       "      <td>15</td>\n",
       "      <td>1042</td>\n",
       "      <td>15</td>\n",
       "      <td>...</td>\n",
       "      <td>0</td>\n",
       "      <td>3783.152221</td>\n",
       "      <td>5071.464231</td>\n",
       "      <td>5923.977368</td>\n",
       "      <td>2</td>\n",
       "      <td>18</td>\n",
       "      <td>1234</td>\n",
       "      <td>1222</td>\n",
       "      <td>15:54:43</td>\n",
       "      <td>28.642833</td>\n",
       "    </tr>\n",
       "    <tr>\n",
       "      <th>4</th>\n",
       "      <td>616</td>\n",
       "      <td>1</td>\n",
       "      <td>5</td>\n",
       "      <td>4</td>\n",
       "      <td>1</td>\n",
       "      <td>5.0</td>\n",
       "      <td>20</td>\n",
       "      <td>20</td>\n",
       "      <td>991</td>\n",
       "      <td>20</td>\n",
       "      <td>...</td>\n",
       "      <td>0</td>\n",
       "      <td>5341.329968</td>\n",
       "      <td>6437.335772</td>\n",
       "      <td>7229.128072</td>\n",
       "      <td>2</td>\n",
       "      <td>18</td>\n",
       "      <td>1233</td>\n",
       "      <td>1221</td>\n",
       "      <td>14:19:44</td>\n",
       "      <td>69.502667</td>\n",
       "    </tr>\n",
       "  </tbody>\n",
       "</table>\n",
       "<p>5 rows × 3087 columns</p>\n",
       "</div>"
      ],
      "text/plain": [
       "   caseid  rscrinf  rdormres  rostscrn  rscreenhisp  rscreenrace  age_a  \\\n",
       "0    2298        1         5         5            1          5.0     27   \n",
       "1    5012        1         5         1            5          5.0     42   \n",
       "2   11586        1         5         1            5          5.0     43   \n",
       "3    6794        5         5         4            1          5.0     15   \n",
       "4     616        1         5         4            1          5.0     20   \n",
       "\n",
       "   age_r  cmbirth  agescrn  ...  pubassis_i      basewgt  adj_mod_basewgt  \\\n",
       "0     27      902       27  ...           0  3247.916977      5123.759559   \n",
       "1     42      718       42  ...           0  2335.279149      2846.799490   \n",
       "2     43      708       43  ...           0  2335.279149      2846.799490   \n",
       "3     15     1042       15  ...           0  3783.152221      5071.464231   \n",
       "4     20      991       20  ...           0  5341.329968      6437.335772   \n",
       "\n",
       "      finalwgt  secu_r  sest  cmintvw  cmlstyr  screentime   intvlngth  \n",
       "0  5556.717241       2    18     1234     1222    18:26:36  110.492667  \n",
       "1  4744.191350       2    18     1233     1221    16:30:59   64.294000  \n",
       "2  4744.191350       2    18     1234     1222    18:19:09   75.149167  \n",
       "3  5923.977368       2    18     1234     1222    15:54:43   28.642833  \n",
       "4  7229.128072       2    18     1233     1221    14:19:44   69.502667  \n",
       "\n",
       "[5 rows x 3087 columns]"
      ]
     },
     "execution_count": 5,
     "metadata": {},
     "output_type": "execute_result"
    }
   ],
   "source": [
    "# Load respondent data in a Data frame\n",
    "respdnt_df = nsfg.ReadFemResp()\n",
    "respdnt_df.head()"
   ]
  },
  {
   "cell_type": "markdown",
   "id": "8744b336",
   "metadata": {},
   "source": [
    "-----------\n",
    "\n",
    "### Excercise question 1-1 ###"
   ]
  },
  {
   "cell_type": "markdown",
   "id": "ab44ced8",
   "metadata": {},
   "source": [
    "**Open chap01ex.ipynb. Some cells are already filled in, and you should execute them. Other cells give you instructions for exercises you should try**"
   ]
  },
  {
   "cell_type": "markdown",
   "id": "84619c7a",
   "metadata": {},
   "source": [
    "**Select the `birthord` column, print the value counts**"
   ]
  },
  {
   "cell_type": "code",
   "execution_count": 6,
   "id": "3e5e7519",
   "metadata": {},
   "outputs": [
    {
     "data": {
      "text/plain": [
       "birthord\n",
       "1.0     4413\n",
       "2.0     2874\n",
       "3.0     1234\n",
       "4.0      421\n",
       "5.0      126\n",
       "6.0       50\n",
       "7.0       20\n",
       "8.0        7\n",
       "9.0        2\n",
       "10.0       1\n",
       "Name: count, dtype: int64"
      ]
     },
     "execution_count": 6,
     "metadata": {},
     "output_type": "execute_result"
    }
   ],
   "source": [
    "# use value_counts function to print unique value counts\n",
    "birthorder = preg_df['birthord']\n",
    "preg_df.birthord.value_counts().sort_index()"
   ]
  },
  {
   "cell_type": "markdown",
   "id": "a95b6015",
   "metadata": {},
   "source": [
    "**Select the `prglngth` column, print the value counts**"
   ]
  },
  {
   "cell_type": "code",
   "execution_count": 7,
   "id": "cf356cd3",
   "metadata": {},
   "outputs": [
    {
     "data": {
      "text/plain": [
       "prglngth\n",
       "0       15\n",
       "1        9\n",
       "2       78\n",
       "3      151\n",
       "4      412\n",
       "5      181\n",
       "6      543\n",
       "7      175\n",
       "8      409\n",
       "9      594\n",
       "10     137\n",
       "11     202\n",
       "12     170\n",
       "13     446\n",
       "14      29\n",
       "15      39\n",
       "16      44\n",
       "17     253\n",
       "18      17\n",
       "19      34\n",
       "20      18\n",
       "21      37\n",
       "22     147\n",
       "23      12\n",
       "24      31\n",
       "25      15\n",
       "26     117\n",
       "27       8\n",
       "28      38\n",
       "29      23\n",
       "30     198\n",
       "31      29\n",
       "32     122\n",
       "33      50\n",
       "34      60\n",
       "35     357\n",
       "36     329\n",
       "37     457\n",
       "38     609\n",
       "39    4744\n",
       "40    1120\n",
       "41     591\n",
       "42     328\n",
       "43     148\n",
       "44      46\n",
       "45      10\n",
       "46       1\n",
       "47       1\n",
       "48       7\n",
       "50       2\n",
       "Name: count, dtype: int64"
      ]
     },
     "execution_count": 7,
     "metadata": {},
     "output_type": "execute_result"
    }
   ],
   "source": [
    "# use value_counts function to print unique value counts\n",
    "pregLength = preg_df['prglngth']\n",
    "preg_df.prglngth.value_counts().sort_index()"
   ]
  },
  {
   "cell_type": "markdown",
   "id": "12fa909e",
   "metadata": {},
   "source": [
    "**Create a new column named <tt>totalwgt_kg</tt> that contains birth weight in kilograms.  Compute its mean.**"
   ]
  },
  {
   "cell_type": "code",
   "execution_count": 8,
   "id": "2ce29761",
   "metadata": {},
   "outputs": [
    {
     "data": {
      "text/plain": [
       "3.295633631632828"
      ]
     },
     "execution_count": 8,
     "metadata": {},
     "output_type": "execute_result"
    }
   ],
   "source": [
    "# use the lb to kg unit convertor\n",
    "lb_to_kg_convr_fctr = 0.45359237\n",
    "# create a new feature or column totalwgt_kg  and use the totalwgt_lb field values and multiple by lb to kg unit convertor \n",
    "preg_df['totalwgt_kg'] = preg_df['totalwgt_lb'] * lb_to_kg_convr_fctr\n",
    "preg_df.totalwgt_kg.mean()"
   ]
  },
  {
   "cell_type": "markdown",
   "id": "4dc6ca0a",
   "metadata": {},
   "source": [
    "**Select the age_r column from resp and print the value counts. How old are the youngest and oldest respondents?**"
   ]
  },
  {
   "cell_type": "code",
   "execution_count": 9,
   "id": "cb367d25",
   "metadata": {},
   "outputs": [
    {
     "data": {
      "text/plain": [
       "age_r\n",
       "15    217\n",
       "16    223\n",
       "17    234\n",
       "18    235\n",
       "19    241\n",
       "20    258\n",
       "21    267\n",
       "22    287\n",
       "23    282\n",
       "24    269\n",
       "25    267\n",
       "26    260\n",
       "27    255\n",
       "28    252\n",
       "29    262\n",
       "30    292\n",
       "31    278\n",
       "32    273\n",
       "33    257\n",
       "34    255\n",
       "35    262\n",
       "36    266\n",
       "37    271\n",
       "38    256\n",
       "39    215\n",
       "40    256\n",
       "41    250\n",
       "42    215\n",
       "43    253\n",
       "44    235\n",
       "Name: count, dtype: int64"
      ]
     },
     "execution_count": 9,
     "metadata": {},
     "output_type": "execute_result"
    }
   ],
   "source": [
    "respdnt_df.age_r.value_counts().sort_index()"
   ]
  },
  {
   "cell_type": "code",
   "execution_count": 10,
   "id": "b5254432",
   "metadata": {},
   "outputs": [
    {
     "name": "stdout",
     "output_type": "stream",
     "text": [
      "Youngest respondent is 15 years old\n",
      "Oldest respondent is 44 years old\n"
     ]
    }
   ],
   "source": [
    "print(\"Youngest respondent is 15 years old\")\n",
    "print(\"Oldest respondent is 44 years old\" )"
   ]
  },
  {
   "cell_type": "markdown",
   "id": "1b451042",
   "metadata": {},
   "source": [
    "**How old is the respondent with caseid 1?**"
   ]
  },
  {
   "cell_type": "code",
   "execution_count": 11,
   "id": "0c97bb33",
   "metadata": {},
   "outputs": [
    {
     "data": {
      "text/plain": [
       "1069    44\n",
       "Name: age_r, dtype: int64"
      ]
     },
     "execution_count": 11,
     "metadata": {},
     "output_type": "execute_result"
    }
   ],
   "source": [
    "respdnt_df[respdnt_df.caseid==1].age_r"
   ]
  },
  {
   "cell_type": "code",
   "execution_count": 12,
   "id": "4a2afaba",
   "metadata": {},
   "outputs": [
    {
     "name": "stdout",
     "output_type": "stream",
     "text": [
      "Age of the respindent for case id 1 is 44 years\n"
     ]
    }
   ],
   "source": [
    "print(\"Age of the respindent for case id 1 is 44 years\")"
   ]
  },
  {
   "cell_type": "markdown",
   "id": "c8f8511a",
   "metadata": {},
   "source": [
    "**What are the pregnancy lengths for the respondent with caseid 2298?**"
   ]
  },
  {
   "cell_type": "code",
   "execution_count": 13,
   "id": "7aefe95d",
   "metadata": {},
   "outputs": [
    {
     "data": {
      "text/plain": [
       "2610    40\n",
       "2611    36\n",
       "2612    30\n",
       "2613    40\n",
       "Name: prglngth, dtype: int64"
      ]
     },
     "execution_count": 13,
     "metadata": {},
     "output_type": "execute_result"
    }
   ],
   "source": [
    "random_prgLength = preg_df[preg_df.caseid==2298].prglngth\n",
    "random_prgLength "
   ]
  },
  {
   "cell_type": "code",
   "execution_count": 14,
   "id": "94773157",
   "metadata": {},
   "outputs": [
    {
     "name": "stdout",
     "output_type": "stream",
     "text": [
      "Pregency lengths are \n",
      " 2610    40\n",
      "2611    36\n",
      "2612    30\n",
      "2613    40\n",
      "Name: prglngth, dtype: int64\n"
     ]
    }
   ],
   "source": [
    "print(\"Pregency lengths are \\n\", random_prgLength)"
   ]
  },
  {
   "cell_type": "markdown",
   "id": "629df01d",
   "metadata": {},
   "source": [
    "**What was the birthweight of the first baby born to the respondent with `caseid` 5012?**"
   ]
  },
  {
   "cell_type": "code",
   "execution_count": 15,
   "id": "20b91229",
   "metadata": {},
   "outputs": [
    {
     "data": {
      "text/plain": [
       "5515    6.0\n",
       "Name: birthwgt_lb, dtype: float64"
      ]
     },
     "execution_count": 15,
     "metadata": {},
     "output_type": "execute_result"
    }
   ],
   "source": [
    "preg_df[preg_df.caseid==5012].birthwgt_lb"
   ]
  },
  {
   "cell_type": "markdown",
   "id": "0069a546",
   "metadata": {},
   "source": [
    "---------\n",
    "### Excercise 1-2 ###"
   ]
  },
  {
   "cell_type": "markdown",
   "id": "e3321ed5",
   "metadata": {},
   "source": [
    "**The variable pregnum is a recode that indicates how many times each respondent has been pregnant. Print the value counts for this variable**"
   ]
  },
  {
   "cell_type": "code",
   "execution_count": 16,
   "id": "c221d954",
   "metadata": {},
   "outputs": [
    {
     "data": {
      "text/plain": [
       "pregnum\n",
       "0     2610\n",
       "1     1267\n",
       "2     1432\n",
       "3     1110\n",
       "4      611\n",
       "5      305\n",
       "6      150\n",
       "7       80\n",
       "8       40\n",
       "9       21\n",
       "10       9\n",
       "11       3\n",
       "12       2\n",
       "14       2\n",
       "19       1\n",
       "Name: count, dtype: int64"
      ]
     },
     "execution_count": 16,
     "metadata": {},
     "output_type": "execute_result"
    }
   ],
   "source": [
    "respdnt_df.pregnum.value_counts().sort_index()"
   ]
  },
  {
   "cell_type": "markdown",
   "id": "29dea936",
   "metadata": {},
   "source": [
    "**You can also cross-validate the respondent and pregnancy files by comparing pregnum for each respondent with the number of records in the pregnancy file.**"
   ]
  },
  {
   "cell_type": "code",
   "execution_count": 17,
   "id": "a2122b63",
   "metadata": {},
   "outputs": [
    {
     "data": {
      "text/html": [
       "<div>\n",
       "<style scoped>\n",
       "    .dataframe tbody tr th:only-of-type {\n",
       "        vertical-align: middle;\n",
       "    }\n",
       "\n",
       "    .dataframe tbody tr th {\n",
       "        vertical-align: top;\n",
       "    }\n",
       "\n",
       "    .dataframe thead th {\n",
       "        text-align: right;\n",
       "    }\n",
       "</style>\n",
       "<table border=\"1\" class=\"dataframe\">\n",
       "  <thead>\n",
       "    <tr style=\"text-align: right;\">\n",
       "      <th></th>\n",
       "      <th>caseid</th>\n",
       "      <th>rscrinf</th>\n",
       "      <th>rdormres</th>\n",
       "      <th>rostscrn</th>\n",
       "      <th>rscreenhisp</th>\n",
       "      <th>rscreenrace</th>\n",
       "      <th>age_a</th>\n",
       "      <th>age_r</th>\n",
       "      <th>cmbirth</th>\n",
       "      <th>agescrn</th>\n",
       "      <th>...</th>\n",
       "      <th>pubassis_i</th>\n",
       "      <th>basewgt</th>\n",
       "      <th>adj_mod_basewgt</th>\n",
       "      <th>finalwgt</th>\n",
       "      <th>secu_r</th>\n",
       "      <th>sest</th>\n",
       "      <th>cmintvw</th>\n",
       "      <th>cmlstyr</th>\n",
       "      <th>screentime</th>\n",
       "      <th>intvlngth</th>\n",
       "    </tr>\n",
       "  </thead>\n",
       "  <tbody>\n",
       "    <tr>\n",
       "      <th>0</th>\n",
       "      <td>2298</td>\n",
       "      <td>1</td>\n",
       "      <td>5</td>\n",
       "      <td>5</td>\n",
       "      <td>1</td>\n",
       "      <td>5.0</td>\n",
       "      <td>27</td>\n",
       "      <td>27</td>\n",
       "      <td>902</td>\n",
       "      <td>27</td>\n",
       "      <td>...</td>\n",
       "      <td>0</td>\n",
       "      <td>3247.916977</td>\n",
       "      <td>5123.759559</td>\n",
       "      <td>5556.717241</td>\n",
       "      <td>2</td>\n",
       "      <td>18</td>\n",
       "      <td>1234</td>\n",
       "      <td>1222</td>\n",
       "      <td>18:26:36</td>\n",
       "      <td>110.492667</td>\n",
       "    </tr>\n",
       "    <tr>\n",
       "      <th>17</th>\n",
       "      <td>5862</td>\n",
       "      <td>1</td>\n",
       "      <td>5</td>\n",
       "      <td>4</td>\n",
       "      <td>1</td>\n",
       "      <td>5.0</td>\n",
       "      <td>33</td>\n",
       "      <td>33</td>\n",
       "      <td>831</td>\n",
       "      <td>33</td>\n",
       "      <td>...</td>\n",
       "      <td>0</td>\n",
       "      <td>3056.771190</td>\n",
       "      <td>3456.489520</td>\n",
       "      <td>4386.630850</td>\n",
       "      <td>1</td>\n",
       "      <td>18</td>\n",
       "      <td>1234</td>\n",
       "      <td>1222</td>\n",
       "      <td>16:42:13</td>\n",
       "      <td>107.819667</td>\n",
       "    </tr>\n",
       "    <tr>\n",
       "      <th>30</th>\n",
       "      <td>9334</td>\n",
       "      <td>1</td>\n",
       "      <td>5</td>\n",
       "      <td>4</td>\n",
       "      <td>1</td>\n",
       "      <td>5.0</td>\n",
       "      <td>34</td>\n",
       "      <td>34</td>\n",
       "      <td>829</td>\n",
       "      <td>34</td>\n",
       "      <td>...</td>\n",
       "      <td>0</td>\n",
       "      <td>2417.628123</td>\n",
       "      <td>2828.685045</td>\n",
       "      <td>3589.884191</td>\n",
       "      <td>1</td>\n",
       "      <td>18</td>\n",
       "      <td>1237</td>\n",
       "      <td>1225</td>\n",
       "      <td>11:18:24</td>\n",
       "      <td>48.615500</td>\n",
       "    </tr>\n",
       "    <tr>\n",
       "      <th>40</th>\n",
       "      <td>4463</td>\n",
       "      <td>1</td>\n",
       "      <td>5</td>\n",
       "      <td>6</td>\n",
       "      <td>1</td>\n",
       "      <td>5.0</td>\n",
       "      <td>25</td>\n",
       "      <td>25</td>\n",
       "      <td>929</td>\n",
       "      <td>25</td>\n",
       "      <td>...</td>\n",
       "      <td>0</td>\n",
       "      <td>2418.202005</td>\n",
       "      <td>3045.972005</td>\n",
       "      <td>3303.356639</td>\n",
       "      <td>1</td>\n",
       "      <td>83</td>\n",
       "      <td>1230</td>\n",
       "      <td>1218</td>\n",
       "      <td>15:13:54</td>\n",
       "      <td>136.100833</td>\n",
       "    </tr>\n",
       "    <tr>\n",
       "      <th>43</th>\n",
       "      <td>7011</td>\n",
       "      <td>1</td>\n",
       "      <td>5</td>\n",
       "      <td>3</td>\n",
       "      <td>1</td>\n",
       "      <td>5.0</td>\n",
       "      <td>34</td>\n",
       "      <td>34</td>\n",
       "      <td>815</td>\n",
       "      <td>34</td>\n",
       "      <td>...</td>\n",
       "      <td>0</td>\n",
       "      <td>3363.355288</td>\n",
       "      <td>3782.074549</td>\n",
       "      <td>4799.830810</td>\n",
       "      <td>2</td>\n",
       "      <td>83</td>\n",
       "      <td>1233</td>\n",
       "      <td>1221</td>\n",
       "      <td>13:26:28</td>\n",
       "      <td>94.169833</td>\n",
       "    </tr>\n",
       "    <tr>\n",
       "      <th>...</th>\n",
       "      <td>...</td>\n",
       "      <td>...</td>\n",
       "      <td>...</td>\n",
       "      <td>...</td>\n",
       "      <td>...</td>\n",
       "      <td>...</td>\n",
       "      <td>...</td>\n",
       "      <td>...</td>\n",
       "      <td>...</td>\n",
       "      <td>...</td>\n",
       "      <td>...</td>\n",
       "      <td>...</td>\n",
       "      <td>...</td>\n",
       "      <td>...</td>\n",
       "      <td>...</td>\n",
       "      <td>...</td>\n",
       "      <td>...</td>\n",
       "      <td>...</td>\n",
       "      <td>...</td>\n",
       "      <td>...</td>\n",
       "      <td>...</td>\n",
       "    </tr>\n",
       "    <tr>\n",
       "      <th>7553</th>\n",
       "      <td>7258</td>\n",
       "      <td>5</td>\n",
       "      <td>5</td>\n",
       "      <td>5</td>\n",
       "      <td>1</td>\n",
       "      <td>5.0</td>\n",
       "      <td>32</td>\n",
       "      <td>32</td>\n",
       "      <td>842</td>\n",
       "      <td>32</td>\n",
       "      <td>...</td>\n",
       "      <td>0</td>\n",
       "      <td>6074.709226</td>\n",
       "      <td>6687.779090</td>\n",
       "      <td>8487.460444</td>\n",
       "      <td>2</td>\n",
       "      <td>23</td>\n",
       "      <td>1231</td>\n",
       "      <td>1219</td>\n",
       "      <td>20:47:56</td>\n",
       "      <td>78.317333</td>\n",
       "    </tr>\n",
       "    <tr>\n",
       "      <th>7554</th>\n",
       "      <td>5325</td>\n",
       "      <td>5</td>\n",
       "      <td>5</td>\n",
       "      <td>5</td>\n",
       "      <td>5</td>\n",
       "      <td>5.0</td>\n",
       "      <td>40</td>\n",
       "      <td>40</td>\n",
       "      <td>743</td>\n",
       "      <td>40</td>\n",
       "      <td>...</td>\n",
       "      <td>0</td>\n",
       "      <td>4870.965001</td>\n",
       "      <td>5340.644198</td>\n",
       "      <td>8900.183557</td>\n",
       "      <td>2</td>\n",
       "      <td>23</td>\n",
       "      <td>1231</td>\n",
       "      <td>1219</td>\n",
       "      <td>18:49:04</td>\n",
       "      <td>93.460000</td>\n",
       "    </tr>\n",
       "    <tr>\n",
       "      <th>7599</th>\n",
       "      <td>7716</td>\n",
       "      <td>1</td>\n",
       "      <td>5</td>\n",
       "      <td>3</td>\n",
       "      <td>5</td>\n",
       "      <td>5.0</td>\n",
       "      <td>41</td>\n",
       "      <td>41</td>\n",
       "      <td>729</td>\n",
       "      <td>41</td>\n",
       "      <td>...</td>\n",
       "      <td>0</td>\n",
       "      <td>1720.605492</td>\n",
       "      <td>2040.142199</td>\n",
       "      <td>3399.896974</td>\n",
       "      <td>1</td>\n",
       "      <td>76</td>\n",
       "      <td>1228</td>\n",
       "      <td>1216</td>\n",
       "      <td>13:49:51</td>\n",
       "      <td>148.055333</td>\n",
       "    </tr>\n",
       "    <tr>\n",
       "      <th>7605</th>\n",
       "      <td>7515</td>\n",
       "      <td>5</td>\n",
       "      <td>5</td>\n",
       "      <td>5</td>\n",
       "      <td>5</td>\n",
       "      <td>5.0</td>\n",
       "      <td>44</td>\n",
       "      <td>44</td>\n",
       "      <td>696</td>\n",
       "      <td>44</td>\n",
       "      <td>...</td>\n",
       "      <td>0</td>\n",
       "      <td>15910.846568</td>\n",
       "      <td>17148.705894</td>\n",
       "      <td>28578.318372</td>\n",
       "      <td>2</td>\n",
       "      <td>76</td>\n",
       "      <td>1234</td>\n",
       "      <td>1222</td>\n",
       "      <td>12:02:46</td>\n",
       "      <td>92.371833</td>\n",
       "    </tr>\n",
       "    <tr>\n",
       "      <th>7631</th>\n",
       "      <td>9174</td>\n",
       "      <td>1</td>\n",
       "      <td>5</td>\n",
       "      <td>3</td>\n",
       "      <td>5</td>\n",
       "      <td>3.0</td>\n",
       "      <td>32</td>\n",
       "      <td>32</td>\n",
       "      <td>834</td>\n",
       "      <td>32</td>\n",
       "      <td>...</td>\n",
       "      <td>0</td>\n",
       "      <td>2272.899925</td>\n",
       "      <td>2608.931475</td>\n",
       "      <td>4526.496109</td>\n",
       "      <td>1</td>\n",
       "      <td>76</td>\n",
       "      <td>1228</td>\n",
       "      <td>1216</td>\n",
       "      <td>17:30:08</td>\n",
       "      <td>171.005000</td>\n",
       "    </tr>\n",
       "  </tbody>\n",
       "</table>\n",
       "<p>611 rows × 3087 columns</p>\n",
       "</div>"
      ],
      "text/plain": [
       "      caseid  rscrinf  rdormres  rostscrn  rscreenhisp  rscreenrace  age_a  \\\n",
       "0       2298        1         5         5            1          5.0     27   \n",
       "17      5862        1         5         4            1          5.0     33   \n",
       "30      9334        1         5         4            1          5.0     34   \n",
       "40      4463        1         5         6            1          5.0     25   \n",
       "43      7011        1         5         3            1          5.0     34   \n",
       "...      ...      ...       ...       ...          ...          ...    ...   \n",
       "7553    7258        5         5         5            1          5.0     32   \n",
       "7554    5325        5         5         5            5          5.0     40   \n",
       "7599    7716        1         5         3            5          5.0     41   \n",
       "7605    7515        5         5         5            5          5.0     44   \n",
       "7631    9174        1         5         3            5          3.0     32   \n",
       "\n",
       "      age_r  cmbirth  agescrn  ...  pubassis_i       basewgt  adj_mod_basewgt  \\\n",
       "0        27      902       27  ...           0   3247.916977      5123.759559   \n",
       "17       33      831       33  ...           0   3056.771190      3456.489520   \n",
       "30       34      829       34  ...           0   2417.628123      2828.685045   \n",
       "40       25      929       25  ...           0   2418.202005      3045.972005   \n",
       "43       34      815       34  ...           0   3363.355288      3782.074549   \n",
       "...     ...      ...      ...  ...         ...           ...              ...   \n",
       "7553     32      842       32  ...           0   6074.709226      6687.779090   \n",
       "7554     40      743       40  ...           0   4870.965001      5340.644198   \n",
       "7599     41      729       41  ...           0   1720.605492      2040.142199   \n",
       "7605     44      696       44  ...           0  15910.846568     17148.705894   \n",
       "7631     32      834       32  ...           0   2272.899925      2608.931475   \n",
       "\n",
       "          finalwgt  secu_r  sest  cmintvw  cmlstyr  screentime   intvlngth  \n",
       "0      5556.717241       2    18     1234     1222    18:26:36  110.492667  \n",
       "17     4386.630850       1    18     1234     1222    16:42:13  107.819667  \n",
       "30     3589.884191       1    18     1237     1225    11:18:24   48.615500  \n",
       "40     3303.356639       1    83     1230     1218    15:13:54  136.100833  \n",
       "43     4799.830810       2    83     1233     1221    13:26:28   94.169833  \n",
       "...            ...     ...   ...      ...      ...         ...         ...  \n",
       "7553   8487.460444       2    23     1231     1219    20:47:56   78.317333  \n",
       "7554   8900.183557       2    23     1231     1219    18:49:04   93.460000  \n",
       "7599   3399.896974       1    76     1228     1216    13:49:51  148.055333  \n",
       "7605  28578.318372       2    76     1234     1222    12:02:46   92.371833  \n",
       "7631   4526.496109       1    76     1228     1216    17:30:08  171.005000  \n",
       "\n",
       "[611 rows x 3087 columns]"
      ]
     },
     "execution_count": 17,
     "metadata": {},
     "output_type": "execute_result"
    }
   ],
   "source": [
    "# List respondent rows that has pregnum value 4\n",
    "respdnt_df[respdnt_df.pregnum==4]"
   ]
  },
  {
   "cell_type": "code",
   "execution_count": 18,
   "id": "994ae121",
   "metadata": {},
   "outputs": [
    {
     "data": {
      "text/plain": [
       "17    4\n",
       "Name: pregnum, dtype: int64"
      ]
     },
     "execution_count": 18,
     "metadata": {},
     "output_type": "execute_result"
    }
   ],
   "source": [
    "# Choose a case id (5862) from the list above and \n",
    "# Print the pregnum value in respondent data file  as it is not listed in the visible columns for confirmation\n",
    "respdnt_df[respdnt_df.caseid==5862].pregnum"
   ]
  },
  {
   "cell_type": "code",
   "execution_count": 19,
   "id": "2564a767",
   "metadata": {},
   "outputs": [
    {
     "data": {
      "text/html": [
       "<div>\n",
       "<style scoped>\n",
       "    .dataframe tbody tr th:only-of-type {\n",
       "        vertical-align: middle;\n",
       "    }\n",
       "\n",
       "    .dataframe tbody tr th {\n",
       "        vertical-align: top;\n",
       "    }\n",
       "\n",
       "    .dataframe thead th {\n",
       "        text-align: right;\n",
       "    }\n",
       "</style>\n",
       "<table border=\"1\" class=\"dataframe\">\n",
       "  <thead>\n",
       "    <tr style=\"text-align: right;\">\n",
       "      <th></th>\n",
       "      <th>caseid</th>\n",
       "      <th>pregordr</th>\n",
       "      <th>howpreg_n</th>\n",
       "      <th>howpreg_p</th>\n",
       "      <th>moscurrp</th>\n",
       "      <th>nowprgdk</th>\n",
       "      <th>pregend1</th>\n",
       "      <th>pregend2</th>\n",
       "      <th>nbrnaliv</th>\n",
       "      <th>multbrth</th>\n",
       "      <th>...</th>\n",
       "      <th>religion_i</th>\n",
       "      <th>metro_i</th>\n",
       "      <th>basewgt</th>\n",
       "      <th>adj_mod_basewgt</th>\n",
       "      <th>finalwgt</th>\n",
       "      <th>secu_p</th>\n",
       "      <th>sest</th>\n",
       "      <th>cmintvw</th>\n",
       "      <th>totalwgt_lb</th>\n",
       "      <th>totalwgt_kg</th>\n",
       "    </tr>\n",
       "  </thead>\n",
       "  <tbody>\n",
       "    <tr>\n",
       "      <th>6464</th>\n",
       "      <td>5862</td>\n",
       "      <td>1</td>\n",
       "      <td>NaN</td>\n",
       "      <td>NaN</td>\n",
       "      <td>NaN</td>\n",
       "      <td>NaN</td>\n",
       "      <td>1.0</td>\n",
       "      <td>NaN</td>\n",
       "      <td>NaN</td>\n",
       "      <td>NaN</td>\n",
       "      <td>...</td>\n",
       "      <td>0</td>\n",
       "      <td>0</td>\n",
       "      <td>3056.77119</td>\n",
       "      <td>3456.48952</td>\n",
       "      <td>4386.63085</td>\n",
       "      <td>1</td>\n",
       "      <td>18</td>\n",
       "      <td>NaN</td>\n",
       "      <td>NaN</td>\n",
       "      <td>NaN</td>\n",
       "    </tr>\n",
       "    <tr>\n",
       "      <th>6465</th>\n",
       "      <td>5862</td>\n",
       "      <td>2</td>\n",
       "      <td>NaN</td>\n",
       "      <td>NaN</td>\n",
       "      <td>NaN</td>\n",
       "      <td>NaN</td>\n",
       "      <td>5.0</td>\n",
       "      <td>NaN</td>\n",
       "      <td>1.0</td>\n",
       "      <td>NaN</td>\n",
       "      <td>...</td>\n",
       "      <td>0</td>\n",
       "      <td>0</td>\n",
       "      <td>3056.77119</td>\n",
       "      <td>3456.48952</td>\n",
       "      <td>4386.63085</td>\n",
       "      <td>1</td>\n",
       "      <td>18</td>\n",
       "      <td>NaN</td>\n",
       "      <td>7.1875</td>\n",
       "      <td>3.260195</td>\n",
       "    </tr>\n",
       "    <tr>\n",
       "      <th>6466</th>\n",
       "      <td>5862</td>\n",
       "      <td>3</td>\n",
       "      <td>NaN</td>\n",
       "      <td>NaN</td>\n",
       "      <td>NaN</td>\n",
       "      <td>NaN</td>\n",
       "      <td>1.0</td>\n",
       "      <td>NaN</td>\n",
       "      <td>NaN</td>\n",
       "      <td>NaN</td>\n",
       "      <td>...</td>\n",
       "      <td>0</td>\n",
       "      <td>0</td>\n",
       "      <td>3056.77119</td>\n",
       "      <td>3456.48952</td>\n",
       "      <td>4386.63085</td>\n",
       "      <td>1</td>\n",
       "      <td>18</td>\n",
       "      <td>NaN</td>\n",
       "      <td>NaN</td>\n",
       "      <td>NaN</td>\n",
       "    </tr>\n",
       "    <tr>\n",
       "      <th>6467</th>\n",
       "      <td>5862</td>\n",
       "      <td>4</td>\n",
       "      <td>32.0</td>\n",
       "      <td>1.0</td>\n",
       "      <td>7.0</td>\n",
       "      <td>NaN</td>\n",
       "      <td>NaN</td>\n",
       "      <td>NaN</td>\n",
       "      <td>NaN</td>\n",
       "      <td>NaN</td>\n",
       "      <td>...</td>\n",
       "      <td>0</td>\n",
       "      <td>0</td>\n",
       "      <td>3056.77119</td>\n",
       "      <td>3456.48952</td>\n",
       "      <td>4386.63085</td>\n",
       "      <td>1</td>\n",
       "      <td>18</td>\n",
       "      <td>NaN</td>\n",
       "      <td>NaN</td>\n",
       "      <td>NaN</td>\n",
       "    </tr>\n",
       "  </tbody>\n",
       "</table>\n",
       "<p>4 rows × 245 columns</p>\n",
       "</div>"
      ],
      "text/plain": [
       "      caseid  pregordr  howpreg_n  howpreg_p  moscurrp  nowprgdk  pregend1  \\\n",
       "6464    5862         1        NaN        NaN       NaN       NaN       1.0   \n",
       "6465    5862         2        NaN        NaN       NaN       NaN       5.0   \n",
       "6466    5862         3        NaN        NaN       NaN       NaN       1.0   \n",
       "6467    5862         4       32.0        1.0       7.0       NaN       NaN   \n",
       "\n",
       "      pregend2  nbrnaliv  multbrth  ...  religion_i  metro_i     basewgt  \\\n",
       "6464       NaN       NaN       NaN  ...           0        0  3056.77119   \n",
       "6465       NaN       1.0       NaN  ...           0        0  3056.77119   \n",
       "6466       NaN       NaN       NaN  ...           0        0  3056.77119   \n",
       "6467       NaN       NaN       NaN  ...           0        0  3056.77119   \n",
       "\n",
       "      adj_mod_basewgt    finalwgt  secu_p  sest  cmintvw  totalwgt_lb  \\\n",
       "6464       3456.48952  4386.63085       1    18      NaN          NaN   \n",
       "6465       3456.48952  4386.63085       1    18      NaN       7.1875   \n",
       "6466       3456.48952  4386.63085       1    18      NaN          NaN   \n",
       "6467       3456.48952  4386.63085       1    18      NaN          NaN   \n",
       "\n",
       "      totalwgt_kg  \n",
       "6464          NaN  \n",
       "6465     3.260195  \n",
       "6466          NaN  \n",
       "6467          NaN  \n",
       "\n",
       "[4 rows x 245 columns]"
      ]
     },
     "execution_count": 19,
     "metadata": {},
     "output_type": "execute_result"
    }
   ],
   "source": [
    "# use the above case id (5862) in pregnancy file above to print the number of records in respondent file\n",
    "preg_df[preg_df.caseid==5862]"
   ]
  },
  {
   "cell_type": "markdown",
   "id": "c5c394b6",
   "metadata": {},
   "source": [
    "**You can use nsfg.MakePregMap to make a dictionary that maps from each caseid to a list of indices into the pregnancy DataFrame.**"
   ]
  },
  {
   "cell_type": "code",
   "execution_count": 20,
   "id": "2fa34d97",
   "metadata": {},
   "outputs": [
    {
     "data": {
      "text/plain": [
       "array([4, 1, 4, 6], dtype=int64)"
      ]
     },
     "execution_count": 20,
     "metadata": {},
     "output_type": "execute_result"
    }
   ],
   "source": [
    "caseid = 5862\n",
    "preg_map = nsfg.MakePregMap(preg_df)\n",
    "indices = preg_map[caseid]\n",
    "preg_df.outcome[indices].values"
   ]
  },
  {
   "cell_type": "code",
   "execution_count": 21,
   "id": "30ad7b35",
   "metadata": {},
   "outputs": [
    {
     "data": {
      "text/plain": [
       "6464    4\n",
       "6465    1\n",
       "6466    4\n",
       "6467    6\n",
       "Name: outcome, dtype: int64"
      ]
     },
     "execution_count": 21,
     "metadata": {},
     "output_type": "execute_result"
    }
   ],
   "source": [
    "preg_df[preg_df.caseid==5862].outcome"
   ]
  },
  {
   "cell_type": "markdown",
   "id": "555e6644",
   "metadata": {},
   "source": [
    "--------\n",
    "### Excercise Chapter 2 ###"
   ]
  },
  {
   "cell_type": "markdown",
   "id": "20579ade",
   "metadata": {},
   "source": [
    "#### Excercise 2-1 ####"
   ]
  },
  {
   "cell_type": "markdown",
   "id": "924bb518",
   "metadata": {},
   "source": [
    "**Exercise 2.1 Based on the results in this chapter, suppose you were asked to summarize what you learned about whether first babies arrive late**"
   ]
  },
  {
   "cell_type": "markdown",
   "id": "efe4d77c",
   "metadata": {},
   "source": [
    "**Which summary statistics would you use if you wanted to get a story on the evening news?**"
   ]
  },
  {
   "cell_type": "code",
   "execution_count": 22,
   "id": "0a348a2e",
   "metadata": {},
   "outputs": [],
   "source": [
    "import thinkstats2\n",
    "import thinkplot\n",
    "\n"
   ]
  },
  {
   "cell_type": "code",
   "execution_count": 23,
   "id": "c7e527bf",
   "metadata": {},
   "outputs": [],
   "source": [
    "# use nsfg method to clean the data to replace nan values and introduce new feature 'totalwgt_lb' that adds birthwgt_lb &\n",
    "# birthwgt_oz\n",
    "nsfg.CleanFemPreg(preg_df)\n",
    "live_birth = preg_df[preg_df.outcome == 1]\n",
    "\n",
    "# Filter and split the pregnancy dataframe\n",
    "# filter the live birth records and split by first baby or subsequrnt baby\n",
    "firsts = live_birth[live_birth.birthord == 1]\n",
    "others = live_birth[live_birth.birthord != 1]\n"
   ]
  },
  {
   "cell_type": "code",
   "execution_count": 24,
   "id": "f831f175",
   "metadata": {},
   "outputs": [],
   "source": [
    "# create histogram inputs for pregnancy length of first baby and subsequent baby using thinkstat script \n",
    "first_hist = thinkstats2.Hist(firsts.prglngth, label='First baby')\n",
    "other_hist = thinkstats2.Hist(others.prglngth,  label ='Subsequent baby')"
   ]
  },
  {
   "cell_type": "code",
   "execution_count": 25,
   "id": "f1440ec0",
   "metadata": {},
   "outputs": [
    {
     "data": {
      "image/png": "[encoded data removed]",
      "text/plain": [
       "<Figure size 640x480 with 1 Axes>"
      ]
     },
     "metadata": {},
     "output_type": "display_data"
    },
    {
     "data": {
      "text/plain": [
       "<Figure size 800x600 with 0 Axes>"
      ]
     },
     "metadata": {},
     "output_type": "display_data"
    }
   ],
   "source": [
    "# using thinkplot script plot a histogram to compare the first and subsequent baby  pregnency lengths\n",
    "width = 0.45\n",
    "thinkplot.PrePlot(2)\n",
    "thinkplot.Hist(first_hist, align='right', width=width)\n",
    "thinkplot.Hist(other_hist, align='left', width=width)\n",
    "thinkplot.Show(xlabel='Pregency Length', ylabel='# of Respondents', xlim=[27, 46], LEGEND = True)"
   ]
  },
  {
   "cell_type": "markdown",
   "id": "a14a9add",
   "metadata": {},
   "source": [
    "- Will use  the above summary statistics histogram to compare the first baby and not first baby pregency live birth data.  This will be used to talk about whether first babies arrive late."
   ]
  },
  {
   "cell_type": "markdown",
   "id": "9d2126d1",
   "metadata": {},
   "source": [
    "**Which ones would you use if you wanted to reassure an anxious patient**"
   ]
  },
  {
   "cell_type": "code",
   "execution_count": 26,
   "id": "2d616456",
   "metadata": {},
   "outputs": [],
   "source": [
    "# create a histogram input data for live birth  pregnency lengths\n",
    "live_hist =  thinkstats2.Hist(live_birth.prglngth, label='Pregnency Length')"
   ]
  },
  {
   "cell_type": "code",
   "execution_count": 27,
   "id": "5421cf14",
   "metadata": {},
   "outputs": [
    {
     "data": {
      "image/png": "[encoded data removed]",
      "text/plain": [
       "<Figure size 640x480 with 1 Axes>"
      ]
     },
     "metadata": {},
     "output_type": "display_data"
    },
    {
     "data": {
      "text/plain": [
       "<Figure size 800x600 with 0 Axes>"
      ]
     },
     "metadata": {},
     "output_type": "display_data"
    }
   ],
   "source": [
    "# using thinkplot script plot a histogram to display live birth pregnency lengths\n",
    "width = 0.5\n",
    "thinkplot.PrePlot(2)\n",
    "thinkplot.Hist(live_hist, align='right', width=width)\n",
    "thinkplot.Show(xlabel='Pregency Length', ylabel='# of Respondents', xlim=[27, 46], LEGEND = True)"
   ]
  },
  {
   "cell_type": "code",
   "execution_count": 28,
   "id": "41be9a15",
   "metadata": {},
   "outputs": [
    {
     "data": {
      "image/png": "[encoded data removed]",
      "text/plain": [
       "<Figure size 640x480 with 1 Axes>"
      ]
     },
     "metadata": {},
     "output_type": "display_data"
    },
    {
     "data": {
      "text/plain": [
       "<Figure size 800x600 with 0 Axes>"
      ]
     },
     "metadata": {},
     "output_type": "display_data"
    }
   ],
   "source": [
    "# create a histogram input data for baby birth\n",
    "babywt_hist =  thinkstats2.Hist(live_birth.totalwgt_lb, label='Baby weight')\n",
    "\n",
    "# Plot a histogram to display the baby weights.  \n",
    "# Tailor the plot to show weights  between 5 to 9 pound (to avoid showing under or over weight babies \n",
    "# statistics to expecting mothers)\n",
    "width = 0.1\n",
    "thinkplot.PrePlot(2)\n",
    "thinkplot.Hist(babywt_hist, align='right', width=width)\n",
    "thinkplot.Show(xlabel='Babay Weight in lb', ylabel='# of babies', xlim=[5, 9], LEGEND = True)"
   ]
  },
  {
   "cell_type": "markdown",
   "id": "bbc057ad",
   "metadata": {},
   "source": [
    "Will use the above two summary summary statistics to show anxious mothers\n",
    "\n",
    "- First one to show which week has highest probability for the baby to be born.  \n",
    "For mothers who anxious about  baby born earlier than 38th week or still not arrived after 38th that there are previous history that babies were born early and late.\n",
    "- Use the second one to clear any baby weight concerns. (Limit the range to avoid any negatove thoughts)"
   ]
  },
  {
   "cell_type": "markdown",
   "id": "fe6d29bb",
   "metadata": {},
   "source": [
    "**Finally, imagine that you are Cecil Adams, author of The Straight Dope (http://straightdope.com), and your job is to answer the question, “Do first babies arrive late?” Write a paragraph that uses the results in this chapter to answer the question clearly, precisely, and honestly.**"
   ]
  },
  {
   "cell_type": "code",
   "execution_count": 29,
   "id": "b586ceae",
   "metadata": {},
   "outputs": [
    {
     "data": {
      "text/plain": [
       "4413"
      ]
     },
     "execution_count": 29,
     "metadata": {},
     "output_type": "execute_result"
    }
   ],
   "source": [
    "# Print the live birth record count for first baby\n",
    "len(firsts)\n"
   ]
  },
  {
   "cell_type": "code",
   "execution_count": 30,
   "id": "24499df9",
   "metadata": {},
   "outputs": [
    {
     "data": {
      "text/plain": [
       "4735"
      ]
     },
     "execution_count": 30,
     "metadata": {},
     "output_type": "execute_result"
    }
   ],
   "source": [
    "# Print the live birth record count for subsequent baby\n",
    "len(others)"
   ]
  },
  {
   "cell_type": "code",
   "execution_count": 31,
   "id": "bca88810",
   "metadata": {},
   "outputs": [
    {
     "data": {
      "text/plain": [
       "38.60095173351461"
      ]
     },
     "execution_count": 31,
     "metadata": {},
     "output_type": "execute_result"
    }
   ],
   "source": [
    "# Print the live birth pregnancy length average value for first baby\n",
    "firsts.prglngth.mean()"
   ]
  },
  {
   "cell_type": "code",
   "execution_count": 32,
   "id": "8c4f6091",
   "metadata": {},
   "outputs": [
    {
     "data": {
      "text/plain": [
       "38.52291446673706"
      ]
     },
     "execution_count": 32,
     "metadata": {},
     "output_type": "execute_result"
    }
   ],
   "source": [
    "# Print the live birth pregnancy length average value for subsequent baby\n",
    "others.prglngth.mean()"
   ]
  },
  {
   "cell_type": "code",
   "execution_count": 33,
   "id": "b66fe621",
   "metadata": {},
   "outputs": [
    {
     "data": {
      "text/plain": [
       "39.0"
      ]
     },
     "execution_count": 33,
     "metadata": {},
     "output_type": "execute_result"
    }
   ],
   "source": [
    "# Print the live birth pregnancy length median value for first baby\n",
    "firsts.prglngth.median()"
   ]
  },
  {
   "cell_type": "code",
   "execution_count": 34,
   "id": "325cf3e3",
   "metadata": {},
   "outputs": [
    {
     "data": {
      "text/plain": [
       "39.0"
      ]
     },
     "execution_count": 34,
     "metadata": {},
     "output_type": "execute_result"
    }
   ],
   "source": [
    "# Print the live birth pregnancy length median value for subsequent baby\n",
    "others.prglngth.median()"
   ]
  },
  {
   "cell_type": "code",
   "execution_count": 35,
   "id": "7d0afc54",
   "metadata": {
    "scrolled": true
   },
   "outputs": [
    {
     "data": {
      "image/png": "[encoded data removed]",
      "text/plain": [
       "<Figure size 640x480 with 1 Axes>"
      ]
     },
     "metadata": {},
     "output_type": "display_data"
    },
    {
     "data": {
      "text/plain": [
       "<Figure size 800x600 with 0 Axes>"
      ]
     },
     "metadata": {},
     "output_type": "display_data"
    }
   ],
   "source": [
    "# create a histogram input to capture the pregnancy order for live birth for first and subsequent babies\n",
    "first_order_hist =  thinkstats2.Hist(firsts.pregordr, label='first live pregnancy order')\n",
    "other_order_hist =  thinkstats2.Hist(others.pregordr, label='Subsequent live baby pregnancy order')\n",
    "width = 0.2\n",
    "thinkplot.PrePlot(2)\n",
    "thinkplot.Hist(first_order_hist, align='right', width=width)\n",
    "thinkplot.Hist(other_order_hist, align='left', width=width)\n",
    "thinkplot.Show(xlabel='Baby Pregnancy order', ylabel='# of baby delivered',  LEGEND = True)"
   ]
  },
  {
   "cell_type": "code",
   "execution_count": 36,
   "id": "b5735a41",
   "metadata": {
    "scrolled": true
   },
   "outputs": [
    {
     "data": {
      "image/png": "[encoded data removed]",
      "text/plain": [
       "<Figure size 640x480 with 1 Axes>"
      ]
     },
     "metadata": {},
     "output_type": "display_data"
    },
    {
     "data": {
      "text/plain": [
       "<Figure size 800x600 with 0 Axes>"
      ]
     },
     "metadata": {},
     "output_type": "display_data"
    }
   ],
   "source": [
    "# create a histogram input to capture mother's age during live birth for first and subsequent babies\n",
    "first_mother_age_hist =  thinkstats2.Hist(firsts.ager, label=\"first baby mother's age\")\n",
    "other_mother_age_hist =  thinkstats2.Hist(others.ager, label=\"Subsequent baby mother's age\")\n",
    "width = 0.2\n",
    "thinkplot.PrePlot(2)\n",
    "thinkplot.Hist(first_mother_age_hist, align='right', width=width)\n",
    "thinkplot.Hist(other_mother_age_hist, align='left', width=width)\n",
    "thinkplot.Show(xlabel='Mothers age', ylabel='# of baby delivered',  LEGEND = True)"
   ]
  },
  {
   "cell_type": "markdown",
   "id": "a4a04860",
   "metadata": {},
   "source": [
    "**Using the mean, median,  pregnancy length,  mother's age statistics for first and subsequent babies to draw the comments on whether first baby arrive late. These values dos not show much differene and captured as part of Cecil Adam's comment**"
   ]
  },
  {
   "cell_type": "markdown",
   "id": "efea6b51",
   "metadata": {},
   "source": [
    "Answering simillarly like Cecil Adams"
   ]
  },
  {
   "cell_type": "markdown",
   "id": "10ab3d84",
   "metadata": {},
   "source": [
    "- The study includes a balanced sample size of 4413 first baby cases and 4735 cases of subsequent babies.\n",
    "\n",
    "<br>\n",
    "\n",
    "- In the quest to determine if first babies tend to be fashionably late, the data tells us that there's a slender gap in the average pregnancy length between first-time moms (38.6 weeks) and those with more experience (38.52 weeks), amounting to a mere 13-hour difference.\n",
    "\n",
    "<br>\n",
    "\n",
    "- Delving into the nuances, the median value for both groups converges at 39 weeks. \n",
    "\n",
    "<br>\n",
    "\n",
    "- Notably, the order of pregnancy seems to play a role for first babies, staying within a range of 5 weeks, while subsequent pregnancies span from 2 to 9 weeks without exerting a discernible impact on the duratio\n",
    "\n",
    "<br>\n",
    "\n",
    "\n",
    "- Surprisingly, the age of respondents, ranging from 15 to 44 for both first-time and experienced mothers, fails to exert any sway on pregnancy length. Age emerges as an inconsequential factor, whether it's a debut childbirth or not, as reflected in the data."
   ]
  },
  {
   "cell_type": "markdown",
   "id": "677c4fab",
   "metadata": {},
   "source": [
    "- Well, buckle up for this thrilling revelation – the impartial observer is here to spill the tea: whether it's a rookie or a seasoned pro, baby arrival times seem to be sharing the same playbook. That supposed myth about first babies being fashionably late? Turns out, it's as real as a unicorn riding a skateboard – pure fiction!"
   ]
  },
  {
   "cell_type": "markdown",
   "id": "8ad929c3",
   "metadata": {},
   "source": [
    "#### Excercise 2-4 ####"
   ]
  },
  {
   "cell_type": "markdown",
   "id": "c620adde",
   "metadata": {},
   "source": [
    "**Using the variable totalwgt_lb, investigate whether first babies are lighter or heavier than others.**"
   ]
  },
  {
   "cell_type": "code",
   "execution_count": 37,
   "id": "a4b0bf5c",
   "metadata": {},
   "outputs": [
    {
     "data": {
      "text/plain": [
       "(7.201094430437772, 7.325855614973262)"
      ]
     },
     "execution_count": 37,
     "metadata": {},
     "output_type": "execute_result"
    }
   ],
   "source": [
    "firsts.totalwgt_lb.mean(), others.totalwgt_lb.mean()"
   ]
  },
  {
   "cell_type": "code",
   "execution_count": 38,
   "id": "732792cf",
   "metadata": {},
   "outputs": [
    {
     "data": {
      "text/plain": [
       "(7.3125, 7.375)"
      ]
     },
     "execution_count": 38,
     "metadata": {},
     "output_type": "execute_result"
    }
   ],
   "source": [
    "firsts.totalwgt_lb.median(), others.totalwgt_lb.median()"
   ]
  },
  {
   "cell_type": "markdown",
   "id": "7fa7f051",
   "metadata": {},
   "source": [
    "The first babies are marginally lighter by few ounces than subsequent babies"
   ]
  },
  {
   "cell_type": "markdown",
   "id": "26e43aed",
   "metadata": {},
   "source": [
    "**Compute Cohen’s d to quantify the difference between the groups. How does it compare to the difference in pregnancy length?**"
   ]
  },
  {
   "cell_type": "code",
   "execution_count": 39,
   "id": "fcdbc6e5",
   "metadata": {},
   "outputs": [],
   "source": [
    "import math as m\n",
    "def CohenEffectSize(group1, group2):\n",
    "    # calculate the difference in mean values\n",
    "    grp_diff = group1.mean() - group2.mean()\n",
    "\n",
    "    grp1_len, grp2_len = len(group1), len(group2)\n",
    "\n",
    "    pooled_var = (grp1_len * group1.var() + grp2_len * group2.var()) / (grp1_len + grp2_len)\n",
    "    cohen_d = grp_diff / m.sqrt(pooled_var)\n",
    "    return cohen_d"
   ]
  },
  {
   "cell_type": "code",
   "execution_count": 40,
   "id": "a2d7640e",
   "metadata": {},
   "outputs": [
    {
     "data": {
      "text/plain": [
       "0.028879044654449883"
      ]
     },
     "execution_count": 40,
     "metadata": {},
     "output_type": "execute_result"
    }
   ],
   "source": [
    "# Use Cohen’s d function to compare first and subsequent baby pregnancy lengths\n",
    "CohenEffectSize(firsts.prglngth, others.prglngth)"
   ]
  },
  {
   "cell_type": "markdown",
   "id": "754055b8",
   "metadata": {},
   "source": [
    "- The difference is very minor and the distribution and variance is simillar betweeen the groups."
   ]
  },
  {
   "cell_type": "code",
   "execution_count": null,
   "id": "844f95d8",
   "metadata": {},
   "outputs": [],
   "source": []
  }
 ],
 "metadata": {
  "kernelspec": {
   "display_name": "Python 3 (ipykernel)",
   "language": "python",
   "name": "python3"
  },
  "language_info": {
   "codemirror_mode": {
    "name": "ipython",
    "version": 3
   },
   "file_extension": ".py",
   "mimetype": "text/x-python",
   "name": "python",
   "nbconvert_exporter": "python",
   "pygments_lexer": "ipython3",
   "version": "3.11.5"
  }
 },
 "nbformat": 4,
 "nbformat_minor": 5
}
