{
 "cells": [
  {
   "cell_type": "markdown",
   "id": "932c1a9a",
   "metadata": {},
   "source": [
    "#  DSC530-T304 Data Exploration and Analysis - Week 4 #\n",
    "\n",
    "## Probability Mass Functions and Cumulative Distribution Functions ##\n",
    "\n",
    "### Excercise Chapter 3 ###\n",
    "-----"
   ]
  },
  {
   "cell_type": "code",
   "execution_count": 1,
   "id": "6731f7e7",
   "metadata": {},
   "outputs": [],
   "source": [
    "# Download pregency and respondent data files from thinkstat\n",
    "\n",
    "from os.path import basename, exists\n",
    "\n",
    "# Declare a function to download the files to local\n",
    "def download(fileurl):\n",
    "    filename = basename(fileurl)\n",
    "    if not exists(filename):\n",
    "        from urllib.request import urlretrieve\n",
    "\n",
    "        local, _ = urlretrieve(fileurl, filename)\n",
    "        print(\"Downloaded \" + local)\n",
    "        "
   ]
  },
  {
   "cell_type": "code",
   "execution_count": 2,
   "id": "b5aa3c49",
   "metadata": {},
   "outputs": [],
   "source": [
    "# Dowload the python and data files to load pregnency and respondent data \n",
    "download(\"https://github.com/AllenDowney/ThinkStats2/raw/master/code/thinkstats2.py\")\n",
    "download(\"https://github.com/AllenDowney/ThinkStats2/raw/master/code/thinkplot.py\")\n",
    "download(\"https://github.com/AllenDowney/ThinkStats2/raw/master/code/nsfg.py\")\n",
    "download(\"https://github.com/AllenDowney/ThinkStats2/raw/master/code/2002FemPreg.dct\")\n",
    "download(\n",
    "    \"https://github.com/AllenDowney/ThinkStats2/raw/master/code/2002FemPreg.dat.gz\"\n",
    ")\n",
    "download(\"https://github.com/AllenDowney/ThinkStats2/raw/master/code/2002FemResp.dct\")\n",
    "download(\"https://github.com/AllenDowney/ThinkStats2/raw/master/code/2002FemResp.dat.gz\")"
   ]
  },
  {
   "cell_type": "code",
   "execution_count": 3,
   "id": "87cc47bb",
   "metadata": {},
   "outputs": [],
   "source": [
    "download(\"https://github.com/AllenDowney/ThinkStats2/raw/master/code/first.py\")"
   ]
  },
  {
   "cell_type": "code",
   "execution_count": 4,
   "id": "365a7a78",
   "metadata": {},
   "outputs": [],
   "source": [
    "# import the script to laod data\n",
    "import nsfg\n",
    "import first\n",
    "import thinkstats2\n",
    "import thinkplot"
   ]
  },
  {
   "cell_type": "markdown",
   "id": "da051823",
   "metadata": {},
   "source": [
    "**Excercise chapter 3 - 1**\n",
    "\n",
    "Something like the class size paradox appears if you survey children and ask how many children are in their family. Families with many children are more likely to appear in your sample, and families with no children have no chance to be in the sample.\n",
    "Use the NSFG respondent variable NUMKDHH to construct the actual distribution for the number of children under 18 in the household."
   ]
  },
  {
   "cell_type": "code",
   "execution_count": 5,
   "id": "7c111e8a",
   "metadata": {
    "scrolled": false
   },
   "outputs": [
    {
     "data": {
      "text/html": [
       "<div>\n",
       "<style scoped>\n",
       "    .dataframe tbody tr th:only-of-type {\n",
       "        vertical-align: middle;\n",
       "    }\n",
       "\n",
       "    .dataframe tbody tr th {\n",
       "        vertical-align: top;\n",
       "    }\n",
       "\n",
       "    .dataframe thead th {\n",
       "        text-align: right;\n",
       "    }\n",
       "</style>\n",
       "<table border=\"1\" class=\"dataframe\">\n",
       "  <thead>\n",
       "    <tr style=\"text-align: right;\">\n",
       "      <th></th>\n",
       "      <th>caseid</th>\n",
       "      <th>rscrinf</th>\n",
       "      <th>rdormres</th>\n",
       "      <th>rostscrn</th>\n",
       "      <th>rscreenhisp</th>\n",
       "      <th>rscreenrace</th>\n",
       "      <th>age_a</th>\n",
       "      <th>age_r</th>\n",
       "      <th>cmbirth</th>\n",
       "      <th>agescrn</th>\n",
       "      <th>...</th>\n",
       "      <th>pubassis_i</th>\n",
       "      <th>basewgt</th>\n",
       "      <th>adj_mod_basewgt</th>\n",
       "      <th>finalwgt</th>\n",
       "      <th>secu_r</th>\n",
       "      <th>sest</th>\n",
       "      <th>cmintvw</th>\n",
       "      <th>cmlstyr</th>\n",
       "      <th>screentime</th>\n",
       "      <th>intvlngth</th>\n",
       "    </tr>\n",
       "  </thead>\n",
       "  <tbody>\n",
       "    <tr>\n",
       "      <th>0</th>\n",
       "      <td>2298</td>\n",
       "      <td>1</td>\n",
       "      <td>5</td>\n",
       "      <td>5</td>\n",
       "      <td>1</td>\n",
       "      <td>5.0</td>\n",
       "      <td>27</td>\n",
       "      <td>27</td>\n",
       "      <td>902</td>\n",
       "      <td>27</td>\n",
       "      <td>...</td>\n",
       "      <td>0</td>\n",
       "      <td>3247.916977</td>\n",
       "      <td>5123.759559</td>\n",
       "      <td>5556.717241</td>\n",
       "      <td>2</td>\n",
       "      <td>18</td>\n",
       "      <td>1234</td>\n",
       "      <td>1222</td>\n",
       "      <td>18:26:36</td>\n",
       "      <td>110.492667</td>\n",
       "    </tr>\n",
       "    <tr>\n",
       "      <th>1</th>\n",
       "      <td>5012</td>\n",
       "      <td>1</td>\n",
       "      <td>5</td>\n",
       "      <td>1</td>\n",
       "      <td>5</td>\n",
       "      <td>5.0</td>\n",
       "      <td>42</td>\n",
       "      <td>42</td>\n",
       "      <td>718</td>\n",
       "      <td>42</td>\n",
       "      <td>...</td>\n",
       "      <td>0</td>\n",
       "      <td>2335.279149</td>\n",
       "      <td>2846.799490</td>\n",
       "      <td>4744.191350</td>\n",
       "      <td>2</td>\n",
       "      <td>18</td>\n",
       "      <td>1233</td>\n",
       "      <td>1221</td>\n",
       "      <td>16:30:59</td>\n",
       "      <td>64.294000</td>\n",
       "    </tr>\n",
       "    <tr>\n",
       "      <th>2</th>\n",
       "      <td>11586</td>\n",
       "      <td>1</td>\n",
       "      <td>5</td>\n",
       "      <td>1</td>\n",
       "      <td>5</td>\n",
       "      <td>5.0</td>\n",
       "      <td>43</td>\n",
       "      <td>43</td>\n",
       "      <td>708</td>\n",
       "      <td>43</td>\n",
       "      <td>...</td>\n",
       "      <td>0</td>\n",
       "      <td>2335.279149</td>\n",
       "      <td>2846.799490</td>\n",
       "      <td>4744.191350</td>\n",
       "      <td>2</td>\n",
       "      <td>18</td>\n",
       "      <td>1234</td>\n",
       "      <td>1222</td>\n",
       "      <td>18:19:09</td>\n",
       "      <td>75.149167</td>\n",
       "    </tr>\n",
       "    <tr>\n",
       "      <th>3</th>\n",
       "      <td>6794</td>\n",
       "      <td>5</td>\n",
       "      <td>5</td>\n",
       "      <td>4</td>\n",
       "      <td>1</td>\n",
       "      <td>5.0</td>\n",
       "      <td>15</td>\n",
       "      <td>15</td>\n",
       "      <td>1042</td>\n",
       "      <td>15</td>\n",
       "      <td>...</td>\n",
       "      <td>0</td>\n",
       "      <td>3783.152221</td>\n",
       "      <td>5071.464231</td>\n",
       "      <td>5923.977368</td>\n",
       "      <td>2</td>\n",
       "      <td>18</td>\n",
       "      <td>1234</td>\n",
       "      <td>1222</td>\n",
       "      <td>15:54:43</td>\n",
       "      <td>28.642833</td>\n",
       "    </tr>\n",
       "    <tr>\n",
       "      <th>4</th>\n",
       "      <td>616</td>\n",
       "      <td>1</td>\n",
       "      <td>5</td>\n",
       "      <td>4</td>\n",
       "      <td>1</td>\n",
       "      <td>5.0</td>\n",
       "      <td>20</td>\n",
       "      <td>20</td>\n",
       "      <td>991</td>\n",
       "      <td>20</td>\n",
       "      <td>...</td>\n",
       "      <td>0</td>\n",
       "      <td>5341.329968</td>\n",
       "      <td>6437.335772</td>\n",
       "      <td>7229.128072</td>\n",
       "      <td>2</td>\n",
       "      <td>18</td>\n",
       "      <td>1233</td>\n",
       "      <td>1221</td>\n",
       "      <td>14:19:44</td>\n",
       "      <td>69.502667</td>\n",
       "    </tr>\n",
       "  </tbody>\n",
       "</table>\n",
       "<p>5 rows × 3087 columns</p>\n",
       "</div>"
      ],
      "text/plain": [
       "   caseid  rscrinf  rdormres  rostscrn  rscreenhisp  rscreenrace  age_a  \\\n",
       "0    2298        1         5         5            1          5.0     27   \n",
       "1    5012        1         5         1            5          5.0     42   \n",
       "2   11586        1         5         1            5          5.0     43   \n",
       "3    6794        5         5         4            1          5.0     15   \n",
       "4     616        1         5         4            1          5.0     20   \n",
       "\n",
       "   age_r  cmbirth  agescrn  ...  pubassis_i      basewgt  adj_mod_basewgt  \\\n",
       "0     27      902       27  ...           0  3247.916977      5123.759559   \n",
       "1     42      718       42  ...           0  2335.279149      2846.799490   \n",
       "2     43      708       43  ...           0  2335.279149      2846.799490   \n",
       "3     15     1042       15  ...           0  3783.152221      5071.464231   \n",
       "4     20      991       20  ...           0  5341.329968      6437.335772   \n",
       "\n",
       "      finalwgt  secu_r  sest  cmintvw  cmlstyr  screentime   intvlngth  \n",
       "0  5556.717241       2    18     1234     1222    18:26:36  110.492667  \n",
       "1  4744.191350       2    18     1233     1221    16:30:59   64.294000  \n",
       "2  4744.191350       2    18     1234     1222    18:19:09   75.149167  \n",
       "3  5923.977368       2    18     1234     1222    15:54:43   28.642833  \n",
       "4  7229.128072       2    18     1233     1221    14:19:44   69.502667  \n",
       "\n",
       "[5 rows x 3087 columns]"
      ]
     },
     "execution_count": 5,
     "metadata": {},
     "output_type": "execute_result"
    }
   ],
   "source": [
    "# Read the respondent file\n",
    "respdnt_df = nsfg.ReadFemResp()\n",
    "respdnt_df.head()"
   ]
  },
  {
   "cell_type": "code",
   "execution_count": 6,
   "id": "9c592bd8",
   "metadata": {
    "scrolled": true
   },
   "outputs": [
    {
     "data": {
      "image/png": "[encoded data removed]",
      "text/plain": [
       "<Figure size 640x480 with 1 Axes>"
      ]
     },
     "metadata": {},
     "output_type": "display_data"
    }
   ],
   "source": [
    "# Plot the number of childern histrogram to view the frequency of the values\n",
    "hist = thinkstats2.Hist(respdnt_df.numkdhh, label=\"numkdhh\")\n",
    "thinkplot.Hist(hist)\n",
    "thinkplot.Config(xlabel=\"No of childern\", ylabel=\"Count\")"
   ]
  },
  {
   "cell_type": "code",
   "execution_count": 7,
   "id": "fcba3c8a",
   "metadata": {},
   "outputs": [
    {
     "data": {
      "text/plain": [
       "<bound method _DictWrapper.Values of Pmf({0: 0.466178202276593, 1: 0.21405207379301322, 2: 0.19625801386889966, 3: 0.08713855815779145, 4: 0.025644380478869556, 5: 0.01072877142483318}, 'UnBiasedUnder18')>"
      ]
     },
     "execution_count": 7,
     "metadata": {},
     "output_type": "execute_result"
    }
   ],
   "source": [
    "# Create a PMF using the number of childerns under the age 18\n",
    "undr18_pmf = thinkstats2.Pmf( respdnt_df.numkdhh, label='UnBiasedUnder18')\n",
    "undr18_pmf.Values"
   ]
  },
  {
   "cell_type": "code",
   "execution_count": 8,
   "id": "d45c809a",
   "metadata": {},
   "outputs": [],
   "source": [
    "# Create a copy of the PMF\n",
    "undr18_bias_pmf = undr18_pmf.Copy(label = \"BiasedUnder18\")"
   ]
  },
  {
   "cell_type": "code",
   "execution_count": 9,
   "id": "15c9a579",
   "metadata": {},
   "outputs": [
    {
     "name": "stdout",
     "output_type": "stream",
     "text": [
      "Biased PMF Total Probaility Before Normalization 1.024205155043831\n",
      "Biased PMF Total Probaility After Normalization 1.0\n"
     ]
    }
   ],
   "source": [
    "# Modify the probability of # of children value of each record \n",
    "for val, prob in undr18_pmf.Items():\n",
    "    undr18_bias_pmf.Mult(val, val)\n",
    "\n",
    "# Normalize after modifying all the probabilties\n",
    "print('Biased PMF Total Probaility Before Normalization' , undr18_bias_pmf.Total() )    \n",
    "undr18_bias_pmf.Normalize()\n",
    "print('Biased PMF Total Probaility After Normalization' , undr18_bias_pmf.Total() )   "
   ]
  },
  {
   "cell_type": "code",
   "execution_count": 10,
   "id": "4f8afcca",
   "metadata": {},
   "outputs": [
    {
     "data": {
      "image/png": "[encoded data removed]",
      "text/plain": [
       "<Figure size 640x480 with 1 Axes>"
      ]
     },
     "metadata": {},
     "output_type": "display_data"
    }
   ],
   "source": [
    "# Ploit both PMF\n",
    "thinkplot.PrePlot(2)\n",
    "thinkplot.Pmfs([undr18_pmf, undr18_bias_pmf])\n",
    "thinkplot.Config(xlabel=\"# of Children\", ylabel=\"PMF\", xlim=[0, 6])"
   ]
  },
  {
   "cell_type": "code",
   "execution_count": 11,
   "id": "aae9b627",
   "metadata": {},
   "outputs": [
    {
     "name": "stdout",
     "output_type": "stream",
     "text": [
      "Un Biased under 18 childeren PMF mean :  1.024205155043831\n",
      "Biased under 18 childeren PMF mean    :  2.403679100664282\n"
     ]
    }
   ],
   "source": [
    "# Print mean of both unbiased and biased PMF\n",
    "print(\"Un Biased under 18 childeren PMF mean : \", undr18_pmf.Mean() )\n",
    "print(\"Biased under 18 childeren PMF mean    : \", undr18_bias_pmf.Mean() )"
   ]
  },
  {
   "cell_type": "markdown",
   "id": "2c164534",
   "metadata": {},
   "source": [
    "**Excercise chapter 3 - 1**\n",
    "\n",
    "In Section 2.7 we computed the mean of a sample by adding up the elements and dividing by n. If you are given a PMF, you can still compute the mean, but the process is slightly different:\n",
    "\n",
    "x = ∑  pi xi<br> \n",
    "&nbsp;&nbsp;&nbsp;&nbsp;&nbsp;&nbsp;&nbsp;&nbsp;i     \n",
    "\n",
    "where the xi are the unique values in the PMF and pi=PMF(xi). Similarly, you can compute variance like this:\n",
    "    \n",
    "S2 = ∑ pi (xi − x)2<br>\n",
    "&nbsp;&nbsp;&nbsp;&nbsp;&nbsp;&nbsp;&nbsp;&nbsp;&nbsp;&nbsp;i\n",
    " \n",
    "Write functions called PmfMean and PmfVar that take a Pmf object and compute the mean and variance. To test these methods, check that they are consistent with the methods Mean and Var provided by Pmf."
   ]
  },
  {
   "cell_type": "code",
   "execution_count": 12,
   "id": "0c28c146",
   "metadata": {},
   "outputs": [],
   "source": [
    "# Function named PmfMean  -  PMF mean is calcuated by summing the product of individual element and its probability\n",
    "def PmfMean( pmf):\n",
    "    return sum(val * prob for val, prob in pmf.Items())"
   ]
  },
  {
   "cell_type": "code",
   "execution_count": 13,
   "id": "cb71755d",
   "metadata": {},
   "outputs": [],
   "source": [
    "# Function named PmfVar  -  PMF variance  is calcuated by summing the product of individual element and its variance\n",
    "\n",
    "def PmfVar( pmf ):\n",
    "    pmf_mean = PmfMean(pmf)\n",
    "    # Variance of a individual element -  subtract the mean from it and square the result.  Square(val - mean) \n",
    "    return sum(prob * (val - pmf_mean)**2 for val, prob in pmf.Items())"
   ]
  },
  {
   "cell_type": "code",
   "execution_count": 14,
   "id": "437f84db",
   "metadata": {},
   "outputs": [
    {
     "name": "stdout",
     "output_type": "stream",
     "text": [
      "Mean from PMF :  1.024205155043831   & Mean from Function PmfMean :  1.024205155043831\n"
     ]
    }
   ],
   "source": [
    "print(\"Mean from PMF : \" , undr18_pmf.Mean() , \"  & Mean from Function PmfMean : \", PmfMean( undr18_pmf ))"
   ]
  },
  {
   "cell_type": "code",
   "execution_count": 15,
   "id": "03297521",
   "metadata": {},
   "outputs": [
    {
     "name": "stdout",
     "output_type": "stream",
     "text": [
      "Variance from PMF :  1.4128643263531195   & Variance from Function PmfMean :  1.4128643263531195\n"
     ]
    }
   ],
   "source": [
    "print(\"Variance from PMF : \" , undr18_pmf.Var() , \"  & Variance from Function PmfMean : \", PmfVar( undr18_pmf ))"
   ]
  },
  {
   "cell_type": "markdown",
   "id": "43590858",
   "metadata": {},
   "source": [
    "### Excercise Chapter 4 ###\n",
    "-----"
   ]
  },
  {
   "cell_type": "markdown",
   "id": "1b4ef60a",
   "metadata": {},
   "source": [
    "**Exercise 4 - 1**\n",
    "\n",
    "How much did you weigh at birth? If you don’t know, call your mother or someone else who knows. Using the NSFG data (all live births), compute the distribution of birth weights and use it to find your percentile rank. If you were a first baby, find your percentile rank in the distribution for first babies. Otherwise use the distribution for others. If you are in the 90th percentile or higher, call your mother back and apologize."
   ]
  },
  {
   "cell_type": "code",
   "execution_count": 16,
   "id": "f51a5236",
   "metadata": {},
   "outputs": [
    {
     "data": {
      "text/html": [
       "<div>\n",
       "<style scoped>\n",
       "    .dataframe tbody tr th:only-of-type {\n",
       "        vertical-align: middle;\n",
       "    }\n",
       "\n",
       "    .dataframe tbody tr th {\n",
       "        vertical-align: top;\n",
       "    }\n",
       "\n",
       "    .dataframe thead th {\n",
       "        text-align: right;\n",
       "    }\n",
       "</style>\n",
       "<table border=\"1\" class=\"dataframe\">\n",
       "  <thead>\n",
       "    <tr style=\"text-align: right;\">\n",
       "      <th></th>\n",
       "      <th>caseid</th>\n",
       "      <th>pregordr</th>\n",
       "      <th>howpreg_n</th>\n",
       "      <th>howpreg_p</th>\n",
       "      <th>moscurrp</th>\n",
       "      <th>nowprgdk</th>\n",
       "      <th>pregend1</th>\n",
       "      <th>pregend2</th>\n",
       "      <th>nbrnaliv</th>\n",
       "      <th>multbrth</th>\n",
       "      <th>...</th>\n",
       "      <th>laborfor_i</th>\n",
       "      <th>religion_i</th>\n",
       "      <th>metro_i</th>\n",
       "      <th>basewgt</th>\n",
       "      <th>adj_mod_basewgt</th>\n",
       "      <th>finalwgt</th>\n",
       "      <th>secu_p</th>\n",
       "      <th>sest</th>\n",
       "      <th>cmintvw</th>\n",
       "      <th>totalwgt_lb</th>\n",
       "    </tr>\n",
       "  </thead>\n",
       "  <tbody>\n",
       "    <tr>\n",
       "      <th>0</th>\n",
       "      <td>1</td>\n",
       "      <td>1</td>\n",
       "      <td>NaN</td>\n",
       "      <td>NaN</td>\n",
       "      <td>NaN</td>\n",
       "      <td>NaN</td>\n",
       "      <td>6.0</td>\n",
       "      <td>NaN</td>\n",
       "      <td>1.0</td>\n",
       "      <td>NaN</td>\n",
       "      <td>...</td>\n",
       "      <td>0</td>\n",
       "      <td>0</td>\n",
       "      <td>0</td>\n",
       "      <td>3410.389399</td>\n",
       "      <td>3869.349602</td>\n",
       "      <td>6448.271112</td>\n",
       "      <td>2</td>\n",
       "      <td>9</td>\n",
       "      <td>NaN</td>\n",
       "      <td>8.8125</td>\n",
       "    </tr>\n",
       "    <tr>\n",
       "      <th>1</th>\n",
       "      <td>1</td>\n",
       "      <td>2</td>\n",
       "      <td>NaN</td>\n",
       "      <td>NaN</td>\n",
       "      <td>NaN</td>\n",
       "      <td>NaN</td>\n",
       "      <td>6.0</td>\n",
       "      <td>NaN</td>\n",
       "      <td>1.0</td>\n",
       "      <td>NaN</td>\n",
       "      <td>...</td>\n",
       "      <td>0</td>\n",
       "      <td>0</td>\n",
       "      <td>0</td>\n",
       "      <td>3410.389399</td>\n",
       "      <td>3869.349602</td>\n",
       "      <td>6448.271112</td>\n",
       "      <td>2</td>\n",
       "      <td>9</td>\n",
       "      <td>NaN</td>\n",
       "      <td>7.8750</td>\n",
       "    </tr>\n",
       "    <tr>\n",
       "      <th>2</th>\n",
       "      <td>2</td>\n",
       "      <td>1</td>\n",
       "      <td>NaN</td>\n",
       "      <td>NaN</td>\n",
       "      <td>NaN</td>\n",
       "      <td>NaN</td>\n",
       "      <td>5.0</td>\n",
       "      <td>NaN</td>\n",
       "      <td>3.0</td>\n",
       "      <td>5.0</td>\n",
       "      <td>...</td>\n",
       "      <td>0</td>\n",
       "      <td>0</td>\n",
       "      <td>0</td>\n",
       "      <td>7226.301740</td>\n",
       "      <td>8567.549110</td>\n",
       "      <td>12999.542264</td>\n",
       "      <td>2</td>\n",
       "      <td>12</td>\n",
       "      <td>NaN</td>\n",
       "      <td>9.1250</td>\n",
       "    </tr>\n",
       "    <tr>\n",
       "      <th>3</th>\n",
       "      <td>2</td>\n",
       "      <td>2</td>\n",
       "      <td>NaN</td>\n",
       "      <td>NaN</td>\n",
       "      <td>NaN</td>\n",
       "      <td>NaN</td>\n",
       "      <td>6.0</td>\n",
       "      <td>NaN</td>\n",
       "      <td>1.0</td>\n",
       "      <td>NaN</td>\n",
       "      <td>...</td>\n",
       "      <td>0</td>\n",
       "      <td>0</td>\n",
       "      <td>0</td>\n",
       "      <td>7226.301740</td>\n",
       "      <td>8567.549110</td>\n",
       "      <td>12999.542264</td>\n",
       "      <td>2</td>\n",
       "      <td>12</td>\n",
       "      <td>NaN</td>\n",
       "      <td>7.0000</td>\n",
       "    </tr>\n",
       "    <tr>\n",
       "      <th>4</th>\n",
       "      <td>2</td>\n",
       "      <td>3</td>\n",
       "      <td>NaN</td>\n",
       "      <td>NaN</td>\n",
       "      <td>NaN</td>\n",
       "      <td>NaN</td>\n",
       "      <td>6.0</td>\n",
       "      <td>NaN</td>\n",
       "      <td>1.0</td>\n",
       "      <td>NaN</td>\n",
       "      <td>...</td>\n",
       "      <td>0</td>\n",
       "      <td>0</td>\n",
       "      <td>0</td>\n",
       "      <td>7226.301740</td>\n",
       "      <td>8567.549110</td>\n",
       "      <td>12999.542264</td>\n",
       "      <td>2</td>\n",
       "      <td>12</td>\n",
       "      <td>NaN</td>\n",
       "      <td>6.1875</td>\n",
       "    </tr>\n",
       "  </tbody>\n",
       "</table>\n",
       "<p>5 rows × 244 columns</p>\n",
       "</div>"
      ],
      "text/plain": [
       "   caseid  pregordr  howpreg_n  howpreg_p  moscurrp  nowprgdk  pregend1  \\\n",
       "0       1         1        NaN        NaN       NaN       NaN       6.0   \n",
       "1       1         2        NaN        NaN       NaN       NaN       6.0   \n",
       "2       2         1        NaN        NaN       NaN       NaN       5.0   \n",
       "3       2         2        NaN        NaN       NaN       NaN       6.0   \n",
       "4       2         3        NaN        NaN       NaN       NaN       6.0   \n",
       "\n",
       "   pregend2  nbrnaliv  multbrth  ...  laborfor_i  religion_i  metro_i  \\\n",
       "0       NaN       1.0       NaN  ...           0           0        0   \n",
       "1       NaN       1.0       NaN  ...           0           0        0   \n",
       "2       NaN       3.0       5.0  ...           0           0        0   \n",
       "3       NaN       1.0       NaN  ...           0           0        0   \n",
       "4       NaN       1.0       NaN  ...           0           0        0   \n",
       "\n",
       "       basewgt  adj_mod_basewgt      finalwgt  secu_p  sest  cmintvw  \\\n",
       "0  3410.389399      3869.349602   6448.271112       2     9      NaN   \n",
       "1  3410.389399      3869.349602   6448.271112       2     9      NaN   \n",
       "2  7226.301740      8567.549110  12999.542264       2    12      NaN   \n",
       "3  7226.301740      8567.549110  12999.542264       2    12      NaN   \n",
       "4  7226.301740      8567.549110  12999.542264       2    12      NaN   \n",
       "\n",
       "   totalwgt_lb  \n",
       "0       8.8125  \n",
       "1       7.8750  \n",
       "2       9.1250  \n",
       "3       7.0000  \n",
       "4       6.1875  \n",
       "\n",
       "[5 rows x 244 columns]"
      ]
     },
     "execution_count": 16,
     "metadata": {},
     "output_type": "execute_result"
    }
   ],
   "source": [
    "# Load Pregency data in a Dataframe\n",
    "preg_df = nsfg.ReadFemPreg()\n",
    "preg_df.head()"
   ]
  },
  {
   "cell_type": "code",
   "execution_count": 17,
   "id": "8711fd91",
   "metadata": {},
   "outputs": [],
   "source": [
    "# Filter only live birth records\n",
    "live_birth = preg_df[preg_df.outcome == 1]\n",
    "\n",
    "# Filter and split the pregnancy dataframe\n",
    "# filter the live birth records and split by first baby or subsequent baby\n",
    "firsts = live_birth[live_birth.birthord == 1]\n",
    "others = live_birth[live_birth.birthord != 1]"
   ]
  },
  {
   "cell_type": "code",
   "execution_count": 18,
   "id": "1893ca7f",
   "metadata": {},
   "outputs": [],
   "source": [
    "# create CDF for first birth baby \n",
    "first_baby_wt_cdf = thinkstats2.Cdf(firsts.totalwgt_lb, label='First Baby wt')\n",
    "subseqnt_baby_wt_cdf = thinkstats2.Cdf(others.totalwgt_lb, label='Subsequent Baby wt')"
   ]
  },
  {
   "cell_type": "code",
   "execution_count": 19,
   "id": "071fead5",
   "metadata": {},
   "outputs": [
    {
     "data": {
      "image/png": "[encoded data removed]",
      "text/plain": [
       "<Figure size 640x480 with 1 Axes>"
      ]
     },
     "metadata": {},
     "output_type": "display_data"
    }
   ],
   "source": [
    "thinkplot.PrePlot(2)\n",
    "thinkplot.Cdfs([first_baby_wt_cdf, subseqnt_baby_wt_cdf])\n",
    "thinkplot.Config(xlabel='Weight lbs', ylabel='CDF')"
   ]
  },
  {
   "cell_type": "code",
   "execution_count": 20,
   "id": "146b0017",
   "metadata": {},
   "outputs": [
    {
     "name": "stdout",
     "output_type": "stream",
     "text": [
      "Percentile rank of my birth weight,  6.81 lbs, among first born babies is  34.31125372450149\n"
     ]
    }
   ],
   "source": [
    "# Identifying the percentile of my weight against first born babay weights\n",
    "print(\"Percentile rank of my birth weight,  6.81 lbs, among first born babies is \", first_baby_wt_cdf.PercentileRank(6.81))"
   ]
  },
  {
   "cell_type": "code",
   "execution_count": 21,
   "id": "8d1e9ef7",
   "metadata": {},
   "outputs": [
    {
     "name": "stdout",
     "output_type": "stream",
     "text": [
      "Percentile rank of my birth weight,  6.81 lbs,  among other than first born babies is   30.99465240641711\n"
     ]
    }
   ],
   "source": [
    "# Identifying the percentile of my weight against first born babay weights\n",
    "print(\"Percentile rank of my birth weight,  6.81 lbs,  among other than first born babies is  \", subseqnt_baby_wt_cdf.PercentileRank(6.81))"
   ]
  },
  {
   "cell_type": "markdown",
   "id": "22d4efcd",
   "metadata": {},
   "source": [
    "**Exercise 4-2**\n",
    "\n",
    "The numbers generated by random.random are supposed to be uniform between 0 and 1; that is, every value in the range should have the same probability.\n",
    "Generate 1000 numbers from random.random and plot their PMF and CDF. Is the distribution uniform?"
   ]
  },
  {
   "cell_type": "code",
   "execution_count": 22,
   "id": "401f9bdb",
   "metadata": {},
   "outputs": [],
   "source": [
    "import numpy as np\n",
    "# generate 100 random numbers using numpy \n",
    "rndm_1000_num = np.random.random(1000)"
   ]
  },
  {
   "cell_type": "code",
   "execution_count": 23,
   "id": "11ce5086",
   "metadata": {},
   "outputs": [],
   "source": [
    "# create a PMF of the random numbers\n",
    "rndm_1k_num_pmf = thinkstats2.Pmf( rndm_1000_num, label='1k random number pmf')"
   ]
  },
  {
   "cell_type": "code",
   "execution_count": 24,
   "id": "a0317242",
   "metadata": {},
   "outputs": [],
   "source": [
    "# create a CDF of random numbers\n",
    "rndm_1k_num_cdf = thinkstats2.Cdf(rndm_1000_num, label='1k random number cdf')"
   ]
  },
  {
   "cell_type": "code",
   "execution_count": 25,
   "id": "a6a22ca5",
   "metadata": {},
   "outputs": [
    {
     "data": {
      "image/png": "[encoded data removed]",
      "text/plain": [
       "<Figure size 640x480 with 1 Axes>"
      ]
     },
     "metadata": {},
     "output_type": "display_data"
    }
   ],
   "source": [
    "# Plot the pdf values\n",
    "thinkplot.Pmf(rndm_1k_num_pmf, linewidth=0.1)\n",
    "thinkplot.Config(xlabel='Random numbers', ylabel='PMF')"
   ]
  },
  {
   "cell_type": "code",
   "execution_count": 26,
   "id": "0f1be1ce",
   "metadata": {},
   "outputs": [
    {
     "data": {
      "image/png": "[encoded data removed]",
      "text/plain": [
       "<Figure size 640x480 with 1 Axes>"
      ]
     },
     "metadata": {},
     "output_type": "display_data"
    }
   ],
   "source": [
    "# Plot the CDF values\n",
    "thinkplot.Cdf(rndm_1k_num_cdf)\n",
    "thinkplot.Config(xlabel='Random numbers', ylabel='CDF')"
   ]
  },
  {
   "cell_type": "markdown",
   "id": "ee3ef83d",
   "metadata": {},
   "source": [
    "The CDF plot is approximatley a straight line indicating uniform distribution"
   ]
  },
  {
   "cell_type": "code",
   "execution_count": 30,
   "id": "90528e87",
   "metadata": {},
   "outputs": [
    {
     "data": {
      "image/png": "[encoded data removed]",
      "text/plain": [
       "<Figure size 640x480 with 1 Axes>"
      ]
     },
     "metadata": {},
     "output_type": "display_data"
    }
   ],
   "source": [
    "data1 = live_birth.totalwgt_lb.dropna()\n",
    "hist1 = thinkstats2.Hist(data1, label=\"wt\")\n",
    "thinkplot.Hist(hist1)\n",
    "thinkplot.Config(xlabel=\"wt\", ylabel=\"Count\")"
   ]
  },
  {
   "cell_type": "code",
   "execution_count": null,
   "id": "9ba24960",
   "metadata": {},
   "outputs": [],
   "source": []
  }
 ],
 "metadata": {
  "kernelspec": {
   "display_name": "Python 3 (ipykernel)",
   "language": "python",
   "name": "python3"
  },
  "language_info": {
   "codemirror_mode": {
    "name": "ipython",
    "version": 3
   },
   "file_extension": ".py",
   "mimetype": "text/x-python",
   "name": "python",
   "nbconvert_exporter": "python",
   "pygments_lexer": "ipython3",
   "version": "3.11.5"
  }
 },
 "nbformat": 4,
 "nbformat_minor": 5
}
